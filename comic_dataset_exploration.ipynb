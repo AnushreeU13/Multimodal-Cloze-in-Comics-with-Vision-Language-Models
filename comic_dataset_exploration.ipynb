{
  "cells": [
    {
      "cell_type": "markdown",
      "metadata": {},
      "source": [
        "# Comic Dataset Exploration\n",
        "\n",
        "This notebook explores the structure of the comic dataset located at `C:\\Users\\uanus\\Box\\AML Comic Project`.\n",
        "\n",
        "## Objectives:\n",
        "1. List all folders in the dataset directory\n",
        "2. Count the number of images in each folder\n",
        "3. Analyze the dataset structure and distribution\n"
      ]
    },
    {
      "cell_type": "code",
      "execution_count": 1,
      "metadata": {},
      "outputs": [],
      "source": [
        "import os\n",
        "import pandas as pd\n",
        "import matplotlib.pyplot as plt\n",
        "import seaborn as sns\n",
        "from pathlib import Path\n",
        "import warnings\n",
        "warnings.filterwarnings('ignore')\n",
        "\n",
        "# Set up plotting style\n",
        "plt.style.use('default')\n",
        "sns.set_palette(\"husl\")\n"
      ]
    },
    {
      "cell_type": "markdown",
      "metadata": {},
      "source": [
        "## 1. Dataset Path Configuration\n"
      ]
    },
    {
      "cell_type": "code",
      "execution_count": 2,
      "metadata": {},
      "outputs": [
        {
          "name": "stdout",
          "output_type": "stream",
          "text": [
            "Dataset path: C:\\Users\\uanus\\Box\\AML Comic Project\n",
            "Path exists: True\n",
            "Path is directory: True\n"
          ]
        }
      ],
      "source": [
        "# Define the dataset path\n",
        "dataset_path = Path(r\"C:\\Users\\uanus\\Box\\AML Comic Project\")\n",
        "\n",
        "print(f\"Dataset path: {dataset_path}\")\n",
        "print(f\"Path exists: {dataset_path.exists()}\")\n",
        "\n",
        "if dataset_path.exists():\n",
        "    print(f\"Path is directory: {dataset_path.is_dir()}\")\n",
        "else:\n",
        "    print(\"Warning: Dataset path does not exist!\")\n"
      ]
    },
    {
      "cell_type": "markdown",
      "metadata": {},
      "source": [
        "## 2. List All Folders in Dataset Directory\n"
      ]
    },
    {
      "cell_type": "code",
      "execution_count": 9,
      "metadata": {},
      "outputs": [
        {
          "name": "stdout",
          "output_type": "stream",
          "text": [
            "Found 15 folders in the dataset:\n",
            "==================================================\n",
            " 1. 0\n",
            " 2. 1\n",
            " 3. 2\n",
            " 4. 3\n",
            " 5. 4\n",
            " 6. 5\n",
            " 7. 6\n",
            " 8. 7\n",
            " 9. 8\n",
            "10. 9\n",
            "11. 10\n",
            "12. 11\n",
            "13. 12\n",
            "14. 13\n",
            "15. 14\n",
            "\n",
            "Total folders: 15\n"
          ]
        }
      ],
      "source": [
        "# List all folders in the dataset directory\n",
        "if dataset_path.exists():\n",
        "    folders = [f for f in dataset_path.iterdir() if f.is_dir()]\n",
        "    folders.sort(key=lambda x: int(x.name) if x.name.isdigit() else float('inf'))\n",
        "    \n",
        "    print(f\"Found {len(folders)} folders in the dataset:\")\n",
        "    print(\"=\" * 50)\n",
        "    \n",
        "    for i, folder in enumerate(folders, 1):\n",
        "        print(f\"{i:2d}. {folder.name}\")\n",
        "    \n",
        "    print(f\"\\nTotal folders: {len(folders)}\")\n",
        "else:\n",
        "    print(\"Cannot list folders - dataset path does not exist\")\n"
      ]
    },
    {
      "cell_type": "markdown",
      "metadata": {},
      "source": [
        "## 3. Count Images in Each Folder\n"
      ]
    },
    {
      "cell_type": "code",
      "execution_count": 10,
      "metadata": {},
      "outputs": [
        {
          "name": "stdout",
          "output_type": "stream",
          "text": [
            "Image Count by Folder:\n",
            "==================================================\n",
            "Folder   0:  314 images\n",
            "Folder   1:  452 images\n",
            "Folder   2:  221 images\n",
            "Folder   3:  207 images\n",
            "Folder   4:  309 images\n",
            "Folder   5:  221 images\n",
            "Folder   6:  232 images\n",
            "Folder   7:  222 images\n",
            "Folder   8:  216 images\n",
            "Folder   9:  208 images\n",
            "Folder  10:  202 images\n",
            "Folder  11:  215 images\n",
            "Folder  12:  215 images\n",
            "Folder  13:  219 images\n",
            "Folder  14:    4 images\n",
            "==================================================\n",
            "Total images across all folders: 3,457\n",
            "Average images per folder: 230.5\n",
            "Median images per folder: 219.0\n"
          ]
        }
      ],
      "source": [
        "def count_images_in_folder(folder_path):\n",
        "    \"\"\"Count the number of JPG images in a folder\"\"\"\n",
        "    try:\n",
        "        jpg_files = list(folder_path.glob(\"*.jpg\"))\n",
        "        return len(jpg_files)\n",
        "    except Exception as e:\n",
        "        print(f\"Error counting images in {folder_path.name}: {e}\")\n",
        "        return 0\n",
        "\n",
        "# Count images in each folder\n",
        "folder_stats = []\n",
        "\n",
        "if dataset_path.exists():\n",
        "    for folder in folders:\n",
        "        image_count = count_images_in_folder(folder)\n",
        "        folder_stats.append({\n",
        "            'folder': folder.name,\n",
        "            'image_count': image_count,\n",
        "            'folder_path': str(folder)\n",
        "        })\n",
        "    \n",
        "    # Create DataFrame for analysis\n",
        "    df = pd.DataFrame(folder_stats)\n",
        "    \n",
        "    print(\"Image Count by Folder:\")\n",
        "    print(\"=\" * 50)\n",
        "    \n",
        "    for _, row in df.iterrows():\n",
        "        print(f\"Folder {row['folder']:>3s}: {row['image_count']:>4d} images\")\n",
        "    \n",
        "    print(\"=\" * 50)\n",
        "    print(f\"Total images across all folders: {df['image_count'].sum():,}\")\n",
        "    print(f\"Average images per folder: {df['image_count'].mean():.1f}\")\n",
        "    print(f\"Median images per folder: {df['image_count'].median():.1f}\")\n",
        "else:\n",
        "    print(\"Cannot count images - dataset path does not exist\")\n"
      ]
    },
    {
      "cell_type": "markdown",
      "metadata": {},
      "source": [
        "## 4. Display Detailed Statistics\n"
      ]
    },
    {
      "cell_type": "code",
      "execution_count": 12,
      "metadata": {},
      "outputs": [
        {
          "name": "stdout",
          "output_type": "stream",
          "text": [
            "\n",
            "Detailed Statistics:\n",
            "==================================================\n",
            "Minimum images in a folder: 4\n",
            "Maximum images in a folder: 452\n",
            "\n",
            "Top 5 folders with most images:\n",
            "  Folder 1: 452 images\n",
            "  Folder 0: 314 images\n",
            "  Folder 4: 309 images\n",
            "  Folder 6: 232 images\n",
            "  Folder 7: 222 images\n",
            "\n",
            "Folders with fewest images:\n",
            "  Folder 14: 4 images\n",
            "  Folder 10: 202 images\n",
            "  Folder 3: 207 images\n"
          ]
        }
      ],
      "source": [
        "if 'df' in locals() and not df.empty:\n",
        "    print(\"\\nDetailed Statistics:\")\n",
        "    print(\"=\" * 50)\n",
        "    \n",
        "    # Basic statistics\n",
        "    print(f\"Minimum images in a folder: {df['image_count'].min()}\")\n",
        "    print(f\"Maximum images in a folder: {df['image_count'].max()}\")\n",
        "    \n",
        "    # Show top 5 folders with most images\n",
        "    print(\"\\nTop 5 folders with most images:\")\n",
        "    top_folders = df.nlargest(5, 'image_count')\n",
        "    for _, row in top_folders.iterrows():\n",
        "        print(f\"  Folder {row['folder']}: {row['image_count']} images\")\n",
        "    \n",
        "    # Show folders with least images\n",
        "    print(\"\\nFolders with fewest images:\")\n",
        "    bottom_folders = df.nsmallest(3, 'image_count')\n",
        "    for _, row in bottom_folders.iterrows():\n",
        "        print(f\"  Folder {row['folder']}: {row['image_count']} images\")\n"
      ]
    },
    {
      "cell_type": "markdown",
      "metadata": {},
      "source": [
        "## 5. Visualizations\n"
      ]
    },
    {
      "cell_type": "markdown",
      "metadata": {},
      "source": [
        "## 6. Sample Image Analysis\n"
      ]
    },
    {
      "cell_type": "markdown",
      "metadata": {},
      "source": [
        "## 7. Export Results\n"
      ]
    },
    {
      "cell_type": "code",
      "execution_count": 8,
      "metadata": {},
      "outputs": [
        {
          "name": "stdout",
          "output_type": "stream",
          "text": [
            "Folder statistics saved to 'comic_dataset_folder_stats.csv'\n",
            "Summary report saved to 'comic_dataset_summary.txt'\n",
            "\n",
            "Summary Report:\n",
            "\n",
            "Comic Dataset Summary Report\n",
            "==================================================\n",
            "\n",
            "Dataset Location: C:\\Users\\uanus\\Box\\AML Comic Project\n",
            "Total Folders: 15\n",
            "Total Images: 3,457\n",
            "\n",
            "Statistics:\n",
            "- Average images per folder: 230.5\n",
            "- Median images per folder: 219.0\n",
            "- Minimum images in folder: 4\n",
            "- Maximum images in folder: 452\n",
            "- Standard deviation: 91.2\n",
            "\n",
            "Folder Distribution:\n",
            "- Folders with 100+ images: 14\n",
            "- Folders with 200+ images: 14\n",
            "- Folders with 300+ images: 3\n",
            "\n",
            "Generated on: 2025-10-06 00:03:30\n",
            "\n"
          ]
        }
      ],
      "source": [
        "# Save the analysis results to CSV\n",
        "if 'df' in locals() and not df.empty:\n",
        "    # Save folder statistics\n",
        "    df.to_csv('comic_dataset_folder_stats.csv', index=False)\n",
        "    print(\"Folder statistics saved to 'comic_dataset_folder_stats.csv'\")\n",
        "    \n",
        "    # Create a summary report\n",
        "    summary_report = f\"\"\"\n",
        "Comic Dataset Summary Report\n",
        "{'='*50}\n",
        "\n",
        "Dataset Location: {dataset_path}\n",
        "Total Folders: {len(df)}\n",
        "Total Images: {df['image_count'].sum():,}\n",
        "\n",
        "Statistics:\n",
        "- Average images per folder: {df['image_count'].mean():.1f}\n",
        "- Median images per folder: {df['image_count'].median():.1f}\n",
        "- Minimum images in folder: {df['image_count'].min()}\n",
        "- Maximum images in folder: {df['image_count'].max()}\n",
        "- Standard deviation: {df['image_count'].std():.1f}\n",
        "\n",
        "Folder Distribution:\n",
        "- Folders with 100+ images: {len(df[df['image_count'] >= 100])}\n",
        "- Folders with 200+ images: {len(df[df['image_count'] >= 200])}\n",
        "- Folders with 300+ images: {len(df[df['image_count'] >= 300])}\n",
        "\n",
        "Generated on: {pd.Timestamp.now().strftime('%Y-%m-%d %H:%M:%S')}\n",
        "\"\"\"\n",
        "    \n",
        "    with open('comic_dataset_summary.txt', 'w') as f:\n",
        "        f.write(summary_report)\n",
        "    \n",
        "    print(\"Summary report saved to 'comic_dataset_summary.txt'\")\n",
        "    print(\"\\nSummary Report:\")\n",
        "    print(summary_report)\n"
      ]
    }
  ],
  "metadata": {
    "kernelspec": {
      "display_name": "Python 3",
      "language": "python",
      "name": "python3"
    },
    "language_info": {
      "codemirror_mode": {
        "name": "ipython",
        "version": 3
      },
      "file_extension": ".py",
      "mimetype": "text/x-python",
      "name": "python",
      "nbconvert_exporter": "python",
      "pygments_lexer": "ipython3",
      "version": "3.12.4"
    }
  },
  "nbformat": 4,
  "nbformat_minor": 2
}
