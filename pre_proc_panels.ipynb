{
  "cells": [
    {
      "cell_type": "code",
      "execution_count": 1,
      "metadata": {},
      "outputs": [
        {
          "name": "stdout",
          "output_type": "stream",
          "text": [
            "Requirement already satisfied: ultralytics in c:\\users\\uanus\\anaconda3\\lib\\site-packages (8.3.206)\n",
            "Requirement already satisfied: numpy>=1.23.0 in c:\\users\\uanus\\anaconda3\\lib\\site-packages (from ultralytics) (1.26.4)\n",
            "Requirement already satisfied: matplotlib>=3.3.0 in c:\\users\\uanus\\anaconda3\\lib\\site-packages (from ultralytics) (3.8.4)\n",
            "Requirement already satisfied: opencv-python>=4.6.0 in c:\\users\\uanus\\anaconda3\\lib\\site-packages (from ultralytics) (4.6.0.66)\n",
            "Requirement already satisfied: pillow>=7.1.2 in c:\\users\\uanus\\anaconda3\\lib\\site-packages (from ultralytics) (10.3.0)\n",
            "Requirement already satisfied: pyyaml>=5.3.1 in c:\\users\\uanus\\anaconda3\\lib\\site-packages (from ultralytics) (6.0.2)\n",
            "Requirement already satisfied: requests>=2.23.0 in c:\\users\\uanus\\anaconda3\\lib\\site-packages (from ultralytics) (2.32.5)\n",
            "Requirement already satisfied: scipy>=1.4.1 in c:\\users\\uanus\\anaconda3\\lib\\site-packages (from ultralytics) (1.16.2)\n",
            "Requirement already satisfied: torch>=1.8.0 in c:\\users\\uanus\\anaconda3\\lib\\site-packages (from ultralytics) (2.4.1+cpu)\n",
            "Requirement already satisfied: torchvision>=0.9.0 in c:\\users\\uanus\\anaconda3\\lib\\site-packages (from ultralytics) (0.19.1+cpu)\n",
            "Requirement already satisfied: psutil in c:\\users\\uanus\\anaconda3\\lib\\site-packages (from ultralytics) (5.9.0)\n",
            "Requirement already satisfied: polars in c:\\users\\uanus\\anaconda3\\lib\\site-packages (from ultralytics) (1.34.0)\n",
            "Requirement already satisfied: ultralytics-thop>=2.0.0 in c:\\users\\uanus\\anaconda3\\lib\\site-packages (from ultralytics) (2.0.17)\n",
            "Requirement already satisfied: contourpy>=1.0.1 in c:\\users\\uanus\\anaconda3\\lib\\site-packages (from matplotlib>=3.3.0->ultralytics) (1.3.3)\n",
            "Requirement already satisfied: cycler>=0.10 in c:\\users\\uanus\\anaconda3\\lib\\site-packages (from matplotlib>=3.3.0->ultralytics) (0.11.0)\n",
            "Requirement already satisfied: fonttools>=4.22.0 in c:\\users\\uanus\\anaconda3\\lib\\site-packages (from matplotlib>=3.3.0->ultralytics) (4.51.0)\n",
            "Requirement already satisfied: kiwisolver>=1.3.1 in c:\\users\\uanus\\anaconda3\\lib\\site-packages (from matplotlib>=3.3.0->ultralytics) (1.4.4)\n",
            "Requirement already satisfied: packaging>=20.0 in c:\\users\\uanus\\anaconda3\\lib\\site-packages (from matplotlib>=3.3.0->ultralytics) (23.2)\n",
            "Requirement already satisfied: pyparsing>=2.3.1 in c:\\users\\uanus\\anaconda3\\lib\\site-packages (from matplotlib>=3.3.0->ultralytics) (3.0.9)\n",
            "Requirement already satisfied: python-dateutil>=2.7 in c:\\users\\uanus\\anaconda3\\lib\\site-packages (from matplotlib>=3.3.0->ultralytics) (2.9.0.post0)\n",
            "Requirement already satisfied: six>=1.5 in c:\\users\\uanus\\anaconda3\\lib\\site-packages (from python-dateutil>=2.7->matplotlib>=3.3.0->ultralytics) (1.16.0)\n",
            "Requirement already satisfied: charset_normalizer<4,>=2 in c:\\users\\uanus\\anaconda3\\lib\\site-packages (from requests>=2.23.0->ultralytics) (2.0.4)\n",
            "Requirement already satisfied: idna<4,>=2.5 in c:\\users\\uanus\\anaconda3\\lib\\site-packages (from requests>=2.23.0->ultralytics) (3.7)\n",
            "Requirement already satisfied: urllib3<3,>=1.21.1 in c:\\users\\uanus\\anaconda3\\lib\\site-packages (from requests>=2.23.0->ultralytics) (2.2.2)\n",
            "Requirement already satisfied: certifi>=2017.4.17 in c:\\users\\uanus\\anaconda3\\lib\\site-packages (from requests>=2.23.0->ultralytics) (2025.8.3)\n",
            "Requirement already satisfied: filelock in c:\\users\\uanus\\anaconda3\\lib\\site-packages (from torch>=1.8.0->ultralytics) (3.13.1)\n",
            "Requirement already satisfied: typing-extensions>=4.8.0 in c:\\users\\uanus\\anaconda3\\lib\\site-packages (from torch>=1.8.0->ultralytics) (4.15.0)\n",
            "Requirement already satisfied: sympy in c:\\users\\uanus\\anaconda3\\lib\\site-packages (from torch>=1.8.0->ultralytics) (1.14.0)\n",
            "Requirement already satisfied: networkx in c:\\users\\uanus\\anaconda3\\lib\\site-packages (from torch>=1.8.0->ultralytics) (3.2.1)\n",
            "Requirement already satisfied: jinja2 in c:\\users\\uanus\\anaconda3\\lib\\site-packages (from torch>=1.8.0->ultralytics) (3.1.4)\n",
            "Requirement already satisfied: fsspec in c:\\users\\uanus\\anaconda3\\lib\\site-packages (from torch>=1.8.0->ultralytics) (2024.3.1)\n",
            "Requirement already satisfied: setuptools in c:\\users\\uanus\\anaconda3\\lib\\site-packages (from torch>=1.8.0->ultralytics) (80.9.0)\n",
            "Requirement already satisfied: MarkupSafe>=2.0 in c:\\users\\uanus\\anaconda3\\lib\\site-packages (from jinja2->torch>=1.8.0->ultralytics) (2.1.3)\n",
            "Requirement already satisfied: polars-runtime-32==1.34.0 in c:\\users\\uanus\\anaconda3\\lib\\site-packages (from polars->ultralytics) (1.34.0)\n",
            "Requirement already satisfied: mpmath<1.4,>=1.1.0 in c:\\users\\uanus\\anaconda3\\lib\\site-packages (from sympy->torch>=1.8.0->ultralytics) (1.3.0)\n",
            "Note: you may need to restart the kernel to use updated packages.\n"
          ]
        }
      ],
      "source": [
        "# Install YOLO only\n",
        "%pip install ultralytics\n"
      ]
    },
    {
      "cell_type": "code",
      "execution_count": 2,
      "metadata": {},
      "outputs": [
        {
          "name": "stdout",
          "output_type": "stream",
          "text": [
            "Requirement already satisfied: paddlepaddle==2.6.2 in c:\\users\\uanus\\anaconda3\\lib\\site-packages (2.6.2)\n",
            "Requirement already satisfied: httpx in c:\\users\\uanus\\anaconda3\\lib\\site-packages (from paddlepaddle==2.6.2) (0.27.0)\n",
            "Requirement already satisfied: numpy>=1.13 in c:\\users\\uanus\\anaconda3\\lib\\site-packages (from paddlepaddle==2.6.2) (1.26.4)\n",
            "Requirement already satisfied: Pillow in c:\\users\\uanus\\anaconda3\\lib\\site-packages (from paddlepaddle==2.6.2) (10.3.0)\n",
            "Requirement already satisfied: decorator in c:\\users\\uanus\\anaconda3\\lib\\site-packages (from paddlepaddle==2.6.2) (5.1.1)\n",
            "Requirement already satisfied: astor in c:\\users\\uanus\\anaconda3\\lib\\site-packages (from paddlepaddle==2.6.2) (0.8.1)\n",
            "Requirement already satisfied: opt-einsum==3.3.0 in c:\\users\\uanus\\anaconda3\\lib\\site-packages (from paddlepaddle==2.6.2) (3.3.0)\n",
            "Requirement already satisfied: protobuf<=3.20.2,>=3.1.0 in c:\\users\\uanus\\anaconda3\\lib\\site-packages (from paddlepaddle==2.6.2) (3.20.2)\n",
            "Requirement already satisfied: anyio in c:\\users\\uanus\\anaconda3\\lib\\site-packages (from httpx->paddlepaddle==2.6.2) (4.2.0)\n",
            "Requirement already satisfied: certifi in c:\\users\\uanus\\anaconda3\\lib\\site-packages (from httpx->paddlepaddle==2.6.2) (2025.8.3)\n",
            "Requirement already satisfied: httpcore==1.* in c:\\users\\uanus\\anaconda3\\lib\\site-packages (from httpx->paddlepaddle==2.6.2) (1.0.2)\n",
            "Requirement already satisfied: idna in c:\\users\\uanus\\anaconda3\\lib\\site-packages (from httpx->paddlepaddle==2.6.2) (3.7)\n",
            "Requirement already satisfied: sniffio in c:\\users\\uanus\\anaconda3\\lib\\site-packages (from httpx->paddlepaddle==2.6.2) (1.3.0)\n",
            "Requirement already satisfied: h11<0.15,>=0.13 in c:\\users\\uanus\\anaconda3\\lib\\site-packages (from httpcore==1.*->httpx->paddlepaddle==2.6.2) (0.14.0)\n",
            "Note: you may need to restart the kernel to use updated packages.\n",
            "Requirement already satisfied: paddleocr in c:\\users\\uanus\\anaconda3\\lib\\site-packages (2.8.1)\n",
            "Requirement already satisfied: shapely in c:\\users\\uanus\\anaconda3\\lib\\site-packages (from paddleocr) (2.1.2)\n",
            "Requirement already satisfied: scikit-image in c:\\users\\uanus\\anaconda3\\lib\\site-packages (from paddleocr) (0.23.2)\n",
            "Requirement already satisfied: imgaug in c:\\users\\uanus\\anaconda3\\lib\\site-packages (from paddleocr) (0.4.0)\n",
            "Requirement already satisfied: pyclipper in c:\\users\\uanus\\anaconda3\\lib\\site-packages (from paddleocr) (1.3.0.post6)\n",
            "Requirement already satisfied: lmdb in c:\\users\\uanus\\anaconda3\\lib\\site-packages (from paddleocr) (1.4.1)\n",
            "Requirement already satisfied: tqdm in c:\\users\\uanus\\anaconda3\\lib\\site-packages (from paddleocr) (4.67.1)\n",
            "Requirement already satisfied: numpy<2.0 in c:\\users\\uanus\\anaconda3\\lib\\site-packages (from paddleocr) (1.26.4)\n",
            "Requirement already satisfied: rapidfuzz in c:\\users\\uanus\\anaconda3\\lib\\site-packages (from paddleocr) (3.14.1)\n",
            "Requirement already satisfied: opencv-python in c:\\users\\uanus\\anaconda3\\lib\\site-packages (from paddleocr) (4.6.0.66)\n",
            "Requirement already satisfied: opencv-contrib-python in c:\\users\\uanus\\anaconda3\\lib\\site-packages (from paddleocr) (4.6.0.66)\n",
            "Requirement already satisfied: cython in c:\\users\\uanus\\anaconda3\\lib\\site-packages (from paddleocr) (3.1.4)\n",
            "Requirement already satisfied: Pillow in c:\\users\\uanus\\anaconda3\\lib\\site-packages (from paddleocr) (10.3.0)\n",
            "Requirement already satisfied: pyyaml in c:\\users\\uanus\\anaconda3\\lib\\site-packages (from paddleocr) (6.0.2)\n",
            "Requirement already satisfied: python-docx in c:\\users\\uanus\\anaconda3\\lib\\site-packages (from paddleocr) (1.2.0)\n",
            "Requirement already satisfied: beautifulsoup4 in c:\\users\\uanus\\anaconda3\\lib\\site-packages (from paddleocr) (4.12.3)\n",
            "Requirement already satisfied: fonttools>=4.24.0 in c:\\users\\uanus\\anaconda3\\lib\\site-packages (from paddleocr) (4.51.0)\n",
            "Requirement already satisfied: fire>=0.3.0 in c:\\users\\uanus\\anaconda3\\lib\\site-packages (from paddleocr) (0.7.1)\n",
            "Requirement already satisfied: requests in c:\\users\\uanus\\anaconda3\\lib\\site-packages (from paddleocr) (2.32.5)\n",
            "Requirement already satisfied: termcolor in c:\\users\\uanus\\anaconda3\\lib\\site-packages (from fire>=0.3.0->paddleocr) (3.1.0)\n",
            "Requirement already satisfied: soupsieve>1.2 in c:\\users\\uanus\\anaconda3\\lib\\site-packages (from beautifulsoup4->paddleocr) (2.5)\n",
            "Requirement already satisfied: six in c:\\users\\uanus\\anaconda3\\lib\\site-packages (from imgaug->paddleocr) (1.16.0)\n",
            "Requirement already satisfied: scipy in c:\\users\\uanus\\anaconda3\\lib\\site-packages (from imgaug->paddleocr) (1.16.2)\n",
            "Requirement already satisfied: matplotlib in c:\\users\\uanus\\anaconda3\\lib\\site-packages (from imgaug->paddleocr) (3.8.4)\n",
            "Requirement already satisfied: imageio in c:\\users\\uanus\\anaconda3\\lib\\site-packages (from imgaug->paddleocr) (2.33.1)\n",
            "Requirement already satisfied: networkx>=2.8 in c:\\users\\uanus\\anaconda3\\lib\\site-packages (from scikit-image->paddleocr) (3.2.1)\n",
            "Requirement already satisfied: tifffile>=2022.8.12 in c:\\users\\uanus\\anaconda3\\lib\\site-packages (from scikit-image->paddleocr) (2023.4.12)\n",
            "Requirement already satisfied: packaging>=21 in c:\\users\\uanus\\anaconda3\\lib\\site-packages (from scikit-image->paddleocr) (23.2)\n",
            "Requirement already satisfied: lazy-loader>=0.4 in c:\\users\\uanus\\anaconda3\\lib\\site-packages (from scikit-image->paddleocr) (0.4)\n",
            "Requirement already satisfied: contourpy>=1.0.1 in c:\\users\\uanus\\anaconda3\\lib\\site-packages (from matplotlib->imgaug->paddleocr) (1.3.3)\n",
            "Requirement already satisfied: cycler>=0.10 in c:\\users\\uanus\\anaconda3\\lib\\site-packages (from matplotlib->imgaug->paddleocr) (0.11.0)\n",
            "Requirement already satisfied: kiwisolver>=1.3.1 in c:\\users\\uanus\\anaconda3\\lib\\site-packages (from matplotlib->imgaug->paddleocr) (1.4.4)\n",
            "Requirement already satisfied: pyparsing>=2.3.1 in c:\\users\\uanus\\anaconda3\\lib\\site-packages (from matplotlib->imgaug->paddleocr) (3.0.9)\n",
            "Requirement already satisfied: python-dateutil>=2.7 in c:\\users\\uanus\\anaconda3\\lib\\site-packages (from matplotlib->imgaug->paddleocr) (2.9.0.post0)\n",
            "Requirement already satisfied: lxml>=3.1.0 in c:\\users\\uanus\\anaconda3\\lib\\site-packages (from python-docx->paddleocr) (6.0.1)\n",
            "Requirement already satisfied: typing_extensions>=4.9.0 in c:\\users\\uanus\\anaconda3\\lib\\site-packages (from python-docx->paddleocr) (4.15.0)\n",
            "Requirement already satisfied: charset_normalizer<4,>=2 in c:\\users\\uanus\\anaconda3\\lib\\site-packages (from requests->paddleocr) (2.0.4)\n",
            "Requirement already satisfied: idna<4,>=2.5 in c:\\users\\uanus\\anaconda3\\lib\\site-packages (from requests->paddleocr) (3.7)\n",
            "Requirement already satisfied: urllib3<3,>=1.21.1 in c:\\users\\uanus\\anaconda3\\lib\\site-packages (from requests->paddleocr) (2.2.2)\n",
            "Requirement already satisfied: certifi>=2017.4.17 in c:\\users\\uanus\\anaconda3\\lib\\site-packages (from requests->paddleocr) (2025.8.3)\n",
            "Requirement already satisfied: colorama in c:\\users\\uanus\\anaconda3\\lib\\site-packages (from tqdm->paddleocr) (0.4.6)\n",
            "Note: you may need to restart the kernel to use updated packages.\n"
          ]
        }
      ],
      "source": [
        "# Install PaddleOCR\n",
        "%pip install paddlepaddle==2.6.2\n",
        "%pip install paddleocr\n"
      ]
    },
    {
      "cell_type": "code",
      "execution_count": 3,
      "metadata": {},
      "outputs": [
        {
          "name": "stdout",
          "output_type": "stream",
          "text": [
            "Collecting craft-text-detector\n",
            "  Using cached craft_text_detector-0.4.3-py3-none-any.whl.metadata (4.8 kB)\n",
            "Requirement already satisfied: torch>=1.6.0 in c:\\users\\uanus\\anaconda3\\lib\\site-packages (from craft-text-detector) (2.4.1+cpu)\n",
            "Requirement already satisfied: torchvision>=0.7.0 in c:\\users\\uanus\\anaconda3\\lib\\site-packages (from craft-text-detector) (0.19.1+cpu)\n",
            "Collecting opencv-python<4.5.4.62,>=3.4.8.29 (from craft-text-detector)\n",
            "  Using cached opencv-python-4.5.4.60.tar.gz (89.8 MB)\n",
            "  Installing build dependencies: started\n",
            "  Installing build dependencies: finished with status 'error'\n",
            "Note: you may need to restart the kernel to use updated packages.\n"
          ]
        },
        {
          "name": "stderr",
          "output_type": "stream",
          "text": [
            "  error: subprocess-exited-with-error\n",
            "  \n",
            "  × pip subprocess to install build dependencies did not run successfully.\n",
            "  │ exit code: 1\n",
            "  ╰─> [19 lines of output]\n",
            "      Ignoring numpy: markers 'python_version == \"3.6\" and platform_machine != \"aarch64\" and platform_machine != \"arm64\"' don't match your environment\n",
            "      Ignoring numpy: markers 'python_version == \"3.7\" and platform_machine != \"aarch64\" and platform_machine != \"arm64\"' don't match your environment\n",
            "      Ignoring numpy: markers 'python_version == \"3.8\" and platform_machine != \"aarch64\" and platform_machine != \"arm64\"' don't match your environment\n",
            "      Ignoring numpy: markers 'python_version <= \"3.9\" and sys_platform == \"linux\" and platform_machine == \"aarch64\"' don't match your environment\n",
            "      Ignoring numpy: markers 'python_version <= \"3.9\" and sys_platform == \"darwin\" and platform_machine == \"arm64\"' don't match your environment\n",
            "      Ignoring numpy: markers 'python_version == \"3.9\" and platform_machine != \"aarch64\" and platform_machine != \"arm64\"' don't match your environment\n",
            "      Collecting setuptools\n",
            "        Using cached setuptools-80.9.0-py3-none-any.whl.metadata (6.6 kB)\n",
            "      Collecting wheel\n",
            "        Using cached wheel-0.45.1-py3-none-any.whl.metadata (2.3 kB)\n",
            "      Collecting scikit-build\n",
            "        Using cached scikit_build-0.18.1-py3-none-any.whl.metadata (18 kB)\n",
            "      Collecting cmake\n",
            "        Using cached cmake-4.1.0-py3-none-win_amd64.whl.metadata (6.5 kB)\n",
            "      Collecting pip\n",
            "        Using cached pip-25.2-py3-none-any.whl.metadata (4.7 kB)\n",
            "      ERROR: Ignored the following versions that require a different python version: 1.21.2 Requires-Python >=3.7,<3.11; 1.21.3 Requires-Python >=3.7,<3.11; 1.21.4 Requires-Python >=3.7,<3.11; 1.21.5 Requires-Python >=3.7,<3.11; 1.21.6 Requires-Python >=3.7,<3.11\n",
            "      ERROR: Could not find a version that satisfies the requirement numpy==1.21.2 (from versions: 1.3.0, 1.4.1, 1.5.0, 1.5.1, 1.6.0, 1.6.1, 1.6.2, 1.7.0, 1.7.1, 1.7.2, 1.8.0, 1.8.1, 1.8.2, 1.9.0, 1.9.1, 1.9.2, 1.9.3, 1.10.0.post2, 1.10.1, 1.10.2, 1.10.4, 1.11.0, 1.11.1, 1.11.2, 1.11.3, 1.12.0, 1.12.1, 1.13.0, 1.13.1, 1.13.3, 1.14.0, 1.14.1, 1.14.2, 1.14.3, 1.14.4, 1.14.5, 1.14.6, 1.15.0, 1.15.1, 1.15.2, 1.15.3, 1.15.4, 1.16.0, 1.16.1, 1.16.2, 1.16.3, 1.16.4, 1.16.5, 1.16.6, 1.17.0, 1.17.1, 1.17.2, 1.17.3, 1.17.4, 1.17.5, 1.18.0, 1.18.1, 1.18.2, 1.18.3, 1.18.4, 1.18.5, 1.19.0, 1.19.1, 1.19.2, 1.19.3, 1.19.4, 1.19.5, 1.20.0, 1.20.1, 1.20.2, 1.20.3, 1.21.0, 1.21.1, 1.22.0, 1.22.1, 1.22.2, 1.22.3, 1.22.4, 1.23.0, 1.23.1, 1.23.2, 1.23.3, 1.23.4, 1.23.5, 1.24.0, 1.24.1, 1.24.2, 1.24.3, 1.24.4, 1.25.0, 1.25.1, 1.25.2, 1.26.0, 1.26.1, 1.26.2, 1.26.3, 1.26.4, 2.0.0, 2.0.1, 2.0.2, 2.1.0, 2.1.1, 2.1.2, 2.1.3, 2.2.0, 2.2.1, 2.2.2, 2.2.3, 2.2.4, 2.2.5, 2.2.6, 2.3.0, 2.3.1, 2.3.2, 2.3.3)\n",
            "      ERROR: No matching distribution found for numpy==1.21.2\n",
            "      [end of output]\n",
            "  \n",
            "  note: This error originates from a subprocess, and is likely not a problem with pip.\n",
            "error: subprocess-exited-with-error\n",
            "\n",
            "× pip subprocess to install build dependencies did not run successfully.\n",
            "│ exit code: 1\n",
            "╰─> See above for output.\n",
            "\n",
            "note: This error originates from a subprocess, and is likely not a problem with pip.\n"
          ]
        }
      ],
      "source": [
        "# Install CRAFT\n",
        "%pip install craft-text-detector\n"
      ]
    },
    {
      "cell_type": "markdown",
      "metadata": {},
      "source": [
        "\n"
      ]
    },
    {
      "cell_type": "code",
      "execution_count": 5,
      "metadata": {},
      "outputs": [
        {
          "name": "stdout",
          "output_type": "stream",
          "text": [
            "Input: C:\\Users\\uanus\\Box\\AML Comic Project\\2\n",
            "Panels out: C:\\Users\\uanus\\Box\\AML Comic Project\\2_images\n",
            "Text out: C:\\Users\\uanus\\Box\\AML Comic Project\\2_text\n",
            "Device: cpu\n",
            "USE_CRAFT: False, CRAFT_AVAILABLE: False, PADDLE_AVAILABLE: True\n"
          ]
        }
      ],
      "source": [
        "# Imports and configuration\n",
        "from pathlib import Path\n",
        "from typing import List, Tuple, Optional, Dict\n",
        "import os\n",
        "import json\n",
        "import math\n",
        "import cv2\n",
        "import numpy as np\n",
        "\n",
        "from ultralytics import YOLO\n",
        "\n",
        "# Conditional imports guarded by availability and flags\n",
        "CRAFT_AVAILABLE = False\n",
        "USE_CRAFT = False # Set to False to disable CRAFT text detection\n",
        "try:\n",
        "    if USE_CRAFT:\n",
        "        from craft_text_detector import (Craft, get_prediction)\n",
        "        CRAFT_AVAILABLE = True\n",
        "except Exception:\n",
        "    CRAFT_AVAILABLE = False\n",
        "\n",
        "PADDLE_AVAILABLE = False\n",
        "try:\n",
        "    from paddleocr import PaddleOCR\n",
        "    PADDLE_AVAILABLE = True\n",
        "except Exception:\n",
        "    PADDLE_AVAILABLE = False\n",
        "\n",
        "# Folder configuration (adjust as needed)\n",
        "INPUT_DIR = Path(r\"C:\\Users\\uanus\\Box\\AML Comic Project\\2\")\n",
        "PANELS_DIR = Path(r\"C:\\Users\\uanus\\Box\\AML Comic Project\\2_images\")\n",
        "TEXT_DIR = Path(r\"C:\\Users\\uanus\\Box\\AML Comic Project\\2_text\")\n",
        "\n",
        "# Create output directories\n",
        "PANELS_DIR.mkdir(parents=True, exist_ok=True)\n",
        "TEXT_DIR.mkdir(parents=True, exist_ok=True)\n",
        "\n",
        "# Inference device config\n",
        "DEVICE = 'cuda' if cv2.cuda.getCudaEnabledDeviceCount() > 0 else 'cpu'\n",
        "\n",
        "print(f\"Input: {INPUT_DIR}\")\n",
        "print(f\"Panels out: {PANELS_DIR}\")\n",
        "print(f\"Text out: {TEXT_DIR}\")\n",
        "print(f\"Device: {DEVICE}\")\n",
        "print(f\"USE_CRAFT: {USE_CRAFT}, CRAFT_AVAILABLE: {CRAFT_AVAILABLE}, PADDLE_AVAILABLE: {PADDLE_AVAILABLE}\")\n"
      ]
    },
    {
      "cell_type": "code",
      "execution_count": 6,
      "metadata": {},
      "outputs": [],
      "source": [
        "# Utility functions\n",
        "\n",
        "def ensure_rgb(img: np.ndarray) -> np.ndarray:\n",
        "    if img is None:\n",
        "        raise ValueError(\"Empty image\")\n",
        "    if len(img.shape) == 2:\n",
        "        return cv2.cvtColor(img, cv2.COLOR_GRAY2RGB)\n",
        "    if img.shape[2] == 4:\n",
        "        return cv2.cvtColor(img, cv2.COLOR_BGRA2BGR)\n",
        "    return img\n",
        "\n",
        "def sort_panels_reading_order(boxes: List[Tuple[int,int,int,int]]) -> List[Tuple[int,int,int,int]]:\n",
        "    \"\"\"Sort panels roughly left-to-right, top-to-bottom.\n",
        "    boxes: list of (x1, y1, x2, y2)\n",
        "    \"\"\"\n",
        "    if not boxes:\n",
        "        return boxes\n",
        "    # Sort by y, then x (with a row tolerance)\n",
        "    row_tol = max(10, int(0.03 * np.mean([b[3]-b[1] for b in boxes])))\n",
        "    boxes_sorted = sorted(boxes, key=lambda b: (b[1]//row_tol, b[0]))\n",
        "    return boxes_sorted\n",
        "\n",
        "def clip_box_to_image(box, w, h):\n",
        "    x1, y1, x2, y2 = box\n",
        "    return max(0,x1), max(0,y1), min(w-1,x2), min(h-1,y2)\n",
        "\n",
        "\n",
        "def save_panel_crop(page_path: Path, panel_idx: int, crop: np.ndarray) -> Path:\n",
        "    base = page_path.stem\n",
        "    out_path = PANELS_DIR / f\"{base}_panel_{panel_idx:02d}.jpg\"\n",
        "    cv2.imwrite(str(out_path), crop)\n",
        "    return out_path\n",
        "\n",
        "\n",
        "def aggregate_text_lines(results) -> str:\n",
        "    \"\"\"Aggregate PaddleOCR results into a single text per page.\n",
        "    results format: list of [ [box, (text, conf)], ... ]\n",
        "    \"\"\"\n",
        "    if not results:\n",
        "        return \"\"\n",
        "    lines = []\n",
        "    for det in results:\n",
        "        try:\n",
        "            text = det[1][0]\n",
        "            conf = det[1][1]\n",
        "            if text and conf is not None and conf >= 0.2:\n",
        "                lines.append(text)\n",
        "        except Exception:\n",
        "            continue\n",
        "    return \"\\n\".join(lines).strip()\n"
      ]
    },
    {
      "cell_type": "code",
      "execution_count": 7,
      "metadata": {},
      "outputs": [],
      "source": [
        "# YOLOv8: Panel detection wrapper\n",
        "class PanelDetector:\n",
        "    def __init__(self, weights: Optional[str] = None, conf: float = 0.25, iou: float = 0.5):\n",
        "        # Use a generic pretrained model (e.g., yolov8n) as placeholder\n",
        "        # Replace with your fine-tuned panel-detector weights when ready\n",
        "        self.model = YOLO(weights or 'yolov8n.pt')\n",
        "        self.conf = conf\n",
        "        self.iou = iou\n",
        "\n",
        "    def predict(self, image_bgr: np.ndarray) -> List[Tuple[int,int,int,int]]:\n",
        "        h, w = image_bgr.shape[:2]\n",
        "        results = self.model.predict(source=image_bgr, conf=self.conf, iou=self.iou, verbose=False, device=0 if DEVICE=='cuda' else None)\n",
        "        boxes = []\n",
        "        for r in results:\n",
        "            if r.boxes is None:\n",
        "                continue\n",
        "            for b in r.boxes.xyxy.cpu().numpy():\n",
        "                x1, y1, x2, y2 = b[:4].astype(int)\n",
        "                x1, y1, x2, y2 = clip_box_to_image((x1,y1,x2,y2), w, h)\n",
        "                # Optional: filter tiny boxes\n",
        "                if (x2-x1)*(y2-y1) < 0.01 * w*h:\n",
        "                    continue\n",
        "                boxes.append((x1,y1,x2,y2))\n",
        "        return sort_panels_reading_order(boxes)\n"
      ]
    },
    {
      "cell_type": "code",
      "execution_count": 8,
      "metadata": {},
      "outputs": [],
      "source": [
        "# CRAFT: Text region detection (optional). If CRAFT import fails, this becomes a no-op.\n",
        "class TextRegionDetector:\n",
        "    def __init__(self, cuda: bool = (DEVICE=='cuda')):\n",
        "        try:\n",
        "            from craft_text_detector import Craft, get_prediction\n",
        "            self._Craft = Craft\n",
        "            self._get_prediction = get_prediction\n",
        "            self.craft = self._Craft(output_dir=None, cuda=cuda)\n",
        "            self.available = True\n",
        "        except Exception as e:\n",
        "            print(f\"CRAFT not available ({e}). Proceeding without text-region detection.\")\n",
        "            self.craft = None\n",
        "            self.available = False\n",
        "\n",
        "    def predict(self, image_bgr: np.ndarray) -> List[np.ndarray]:\n",
        "        \"\"\"Return list of polygons (np.ndarray Nx2) for detected text regions.\n",
        "        If CRAFT isn't available, return an empty list to allow downstream OCR on full panels.\n",
        "        \"\"\"\n",
        "        if not self.available:\n",
        "            return []\n",
        "        image_rgb = cv2.cvtColor(image_bgr, cv2.COLOR_BGR2RGB)\n",
        "        prediction_result = self._get_prediction(\n",
        "            image=image_rgb,\n",
        "            craft_net=self.craft.craft_net,\n",
        "            text_threshold=0.7,\n",
        "            link_threshold=0.4,\n",
        "            low_text=0.4,\n",
        "            cuda=self.craft.cuda,\n",
        "        )\n",
        "        polys = prediction_result.get('boxes', [])\n",
        "        return polys or []\n",
        "\n",
        "    def release(self):\n",
        "        if self.available and self.craft is not None:\n",
        "            self.craft.unload_craftnet_model()\n",
        "            self.craft.unload_refinenet_model()\n"
      ]
    },
    {
      "cell_type": "code",
      "execution_count": 9,
      "metadata": {},
      "outputs": [],
      "source": [
        "# PaddleOCR: OCR wrapper\n",
        "class OCRExtractor:\n",
        "    def __init__(self, lang: str = 'en', use_angle_cls: bool = True):\n",
        "        # Use CPU by default on Windows unless CUDA Paddle is set up\n",
        "        self.ocr = PaddleOCR(use_angle_cls=use_angle_cls, lang=lang, use_gpu=(DEVICE=='cuda'))\n",
        "\n",
        "    def extract_text(self, image_bgr: np.ndarray) -> str:\n",
        "        image_rgb = cv2.cvtColor(image_bgr, cv2.COLOR_BGR2RGB)\n",
        "        result = self.ocr.ocr(image_rgb, cls=True)\n",
        "        # result is list per image; when single image provided, it's [[det]]\n",
        "        if not result:\n",
        "            return \"\"\n",
        "        # Flatten and aggregate\n",
        "        flat = []\n",
        "        for det_list in result:\n",
        "            if not det_list:\n",
        "                continue\n",
        "            for det in det_list:\n",
        "                flat.append(det)\n",
        "        return aggregate_text_lines(flat)\n"
      ]
    },
    {
      "cell_type": "code",
      "execution_count": 12,
      "metadata": {},
      "outputs": [],
      "source": [
        "# End-to-end processing pipeline\n",
        "\n",
        "def process_page_image(page_path: Path, panel_detector: PanelDetector, text_detector: TextRegionDetector, ocr: OCRExtractor) -> Dict:\n",
        "    \"\"\"Process one page: detect panels, save crops, run text detection+OCR per panel,\n",
        "    aggregate text over the page, and write .txt.\n",
        "    Returns a dict with metadata and saved file paths.\n",
        "    \"\"\"\n",
        "    img = cv2.imread(str(page_path))\n",
        "    if img is None:\n",
        "        return {\"page\": str(page_path), \"error\": \"Failed to read image\"}\n",
        "\n",
        "    img = ensure_rgb(img)\n",
        "    h, w = img.shape[:2]\n",
        "\n",
        "    # 1) Panel detection\n",
        "    panel_boxes = panel_detector.predict(img)\n",
        "\n",
        "    # 2) Save panel crops and run CRAFT+OCR per panel\n",
        "    page_text_lines = []\n",
        "    saved_panels = []\n",
        "\n",
        "    for idx, (x1, y1, x2, y2) in enumerate(panel_boxes):\n",
        "        crop = img[y1:y2, x1:x2]\n",
        "        out_path = save_panel_crop(page_path, idx, crop)\n",
        "        saved_panels.append(str(out_path))\n",
        "\n",
        "        # Text regions (optional future use: crop to text regions before OCR)\n",
        "        # For simplicity, pass whole panel to OCR, which is robust enough; CRAFT kept for extensibility\n",
        "        # polygons = text_detector.predict(crop)\n",
        "        text = ocr.extract_text(crop)\n",
        "        if text:\n",
        "            page_text_lines.append(text)\n",
        "\n",
        "    # 3) Aggregate all panel texts into a single page-level .txt\n",
        "    page_text = \"\\n\\n\".join([t for t in page_text_lines if t.strip()])\n",
        "    txt_out = TEXT_DIR / f\"{page_path.stem}.txt\"\n",
        "    with open(txt_out, 'w', encoding='utf-8') as f:\n",
        "        f.write(page_text)\n",
        "\n",
        "    # Convert NumPy types to Python native types for JSON serialization\n",
        "    panel_boxes_json = [[int(x1), int(y1), int(x2), int(y2)] for x1, y1, x2, y2 in panel_boxes]\n",
        "    \n",
        "    return {\n",
        "        \"page\": str(page_path),\n",
        "        \"size\": [int(w), int(h)],\n",
        "        \"num_panels\": int(len(panel_boxes)),\n",
        "        \"panel_boxes\": panel_boxes_json,\n",
        "        \"panel_images\": saved_panels,\n",
        "        \"text_file\": str(txt_out),\n",
        "    }\n"
      ]
    },
    {
      "cell_type": "code",
      "execution_count": 13,
      "metadata": {},
      "outputs": [
        {
          "name": "stdout",
          "output_type": "stream",
          "text": [
            "Found 221 pages in C:\\Users\\uanus\\Box\\AML Comic Project\\2\n",
            "CRAFT not available (No module named 'craft_text_detector'). Proceeding without text-region detection.\n",
            "[2025/10/07 11:43:57] ppocr DEBUG: Namespace(help='==SUPPRESS==', use_gpu=False, use_xpu=False, use_npu=False, use_mlu=False, ir_optim=True, use_tensorrt=False, min_subgraph_size=15, precision='fp32', gpu_mem=500, gpu_id=0, image_dir=None, page_num=0, det_algorithm='DB', det_model_dir='C:\\\\Users\\\\uanus/.paddleocr/whl\\\\det\\\\en\\\\en_PP-OCRv3_det_infer', det_limit_side_len=960, det_limit_type='max', det_box_type='quad', det_db_thresh=0.3, det_db_box_thresh=0.6, det_db_unclip_ratio=1.5, max_batch_size=10, use_dilation=False, det_db_score_mode='fast', det_east_score_thresh=0.8, det_east_cover_thresh=0.1, det_east_nms_thresh=0.2, det_sast_score_thresh=0.5, det_sast_nms_thresh=0.2, det_pse_thresh=0, det_pse_box_thresh=0.85, det_pse_min_area=16, det_pse_scale=1, scales=[8, 16, 32], alpha=1.0, beta=1.0, fourier_degree=5, rec_algorithm='SVTR_LCNet', rec_model_dir='C:\\\\Users\\\\uanus/.paddleocr/whl\\\\rec\\\\en\\\\en_PP-OCRv4_rec_infer', rec_image_inverse=True, rec_image_shape='3, 48, 320', rec_batch_num=6, max_text_length=25, rec_char_dict_path='c:\\\\Users\\\\uanus\\\\anaconda3\\\\Lib\\\\site-packages\\\\paddleocr\\\\ppocr\\\\utils\\\\en_dict.txt', use_space_char=True, vis_font_path='./doc/fonts/simfang.ttf', drop_score=0.5, e2e_algorithm='PGNet', e2e_model_dir=None, e2e_limit_side_len=768, e2e_limit_type='max', e2e_pgnet_score_thresh=0.5, e2e_char_dict_path='./ppocr/utils/ic15_dict.txt', e2e_pgnet_valid_set='totaltext', e2e_pgnet_mode='fast', use_angle_cls=True, cls_model_dir='C:\\\\Users\\\\uanus/.paddleocr/whl\\\\cls\\\\ch_ppocr_mobile_v2.0_cls_infer', cls_image_shape='3, 48, 192', label_list=['0', '180'], cls_batch_num=6, cls_thresh=0.9, enable_mkldnn=False, cpu_threads=10, use_pdserving=False, warmup=False, sr_model_dir=None, sr_image_shape='3, 32, 128', sr_batch_num=1, draw_img_save_dir='./inference_results', save_crop_res=False, crop_res_save_dir='./output', use_mp=False, total_process_num=1, process_id=0, benchmark=False, save_log_path='./log_output/', show_log=True, use_onnx=False, return_word_box=False, output='./output', table_max_len=488, table_algorithm='TableAttn', table_model_dir=None, merge_no_span_structure=True, table_char_dict_path=None, layout_model_dir=None, layout_dict_path=None, layout_score_threshold=0.5, layout_nms_threshold=0.5, kie_algorithm='LayoutXLM', ser_model_dir=None, re_model_dir=None, use_visual_backbone=True, ser_dict_path='../train_data/XFUND/class_list_xfun.txt', ocr_order_method=None, mode='structure', image_orientation=False, layout=True, table=True, ocr=True, recovery=False, use_pdf2docx_api=False, invert=False, binarize=False, alphacolor=(255, 255, 255), lang='en', det=True, rec=True, type='ocr', savefile=False, ocr_version='PP-OCRv4', structure_version='PP-StructureV2')\n"
          ]
        },
        {
          "name": "stderr",
          "output_type": "stream",
          "text": [
            "  0%|          | 0/221 [00:00<?, ?it/s]"
          ]
        },
        {
          "name": "stdout",
          "output_type": "stream",
          "text": [
            "[2025/10/07 11:44:03] ppocr DEBUG: dt_boxes num : 0, elapsed : 0.744288444519043\n",
            "[2025/10/07 11:44:03] ppocr DEBUG: cls num  : 0, elapsed : 0\n",
            "[2025/10/07 11:44:03] ppocr DEBUG: rec_res num  : 0, elapsed : 0.0\n",
            "[2025/10/07 11:44:04] ppocr DEBUG: dt_boxes num : 0, elapsed : 0.8859138488769531\n",
            "[2025/10/07 11:44:04] ppocr DEBUG: cls num  : 0, elapsed : 0\n",
            "[2025/10/07 11:44:04] ppocr DEBUG: rec_res num  : 0, elapsed : 0.0\n"
          ]
        },
        {
          "name": "stderr",
          "output_type": "stream",
          "text": [
            "  0%|          | 1/221 [00:02<10:01,  2.73s/it]"
          ]
        },
        {
          "name": "stdout",
          "output_type": "stream",
          "text": [
            "[2025/10/07 11:44:05] ppocr DEBUG: dt_boxes num : 0, elapsed : 0.11442923545837402\n",
            "[2025/10/07 11:44:05] ppocr DEBUG: cls num  : 0, elapsed : 0\n",
            "[2025/10/07 11:44:05] ppocr DEBUG: rec_res num  : 0, elapsed : 0.0\n"
          ]
        },
        {
          "name": "stderr",
          "output_type": "stream",
          "text": [
            "  1%|          | 2/221 [00:03<04:59,  1.37s/it]"
          ]
        },
        {
          "name": "stdout",
          "output_type": "stream",
          "text": [
            "[2025/10/07 11:44:05] ppocr DEBUG: dt_boxes num : 0, elapsed : 0.15515446662902832\n",
            "[2025/10/07 11:44:05] ppocr DEBUG: cls num  : 0, elapsed : 0\n",
            "[2025/10/07 11:44:05] ppocr DEBUG: rec_res num  : 0, elapsed : 0.0\n"
          ]
        },
        {
          "name": "stderr",
          "output_type": "stream",
          "text": [
            "  1%|▏         | 3/221 [00:03<03:21,  1.08it/s]"
          ]
        },
        {
          "name": "stdout",
          "output_type": "stream",
          "text": [
            "[2025/10/07 11:44:06] ppocr DEBUG: dt_boxes num : 0, elapsed : 0.09998464584350586\n",
            "[2025/10/07 11:44:06] ppocr DEBUG: cls num  : 0, elapsed : 0\n",
            "[2025/10/07 11:44:06] ppocr DEBUG: rec_res num  : 0, elapsed : 0.0\n"
          ]
        },
        {
          "name": "stderr",
          "output_type": "stream",
          "text": [
            "  2%|▏         | 4/221 [00:03<02:29,  1.45it/s]"
          ]
        },
        {
          "name": "stdout",
          "output_type": "stream",
          "text": [
            "[2025/10/07 11:44:06] ppocr DEBUG: dt_boxes num : 0, elapsed : 0.12483453750610352\n",
            "[2025/10/07 11:44:06] ppocr DEBUG: cls num  : 0, elapsed : 0\n",
            "[2025/10/07 11:44:06] ppocr DEBUG: rec_res num  : 0, elapsed : 0.0\n"
          ]
        },
        {
          "name": "stderr",
          "output_type": "stream",
          "text": [
            "  3%|▎         | 7/221 [00:04<01:21,  2.62it/s]"
          ]
        },
        {
          "name": "stdout",
          "output_type": "stream",
          "text": [
            "[2025/10/07 11:44:07] ppocr DEBUG: dt_boxes num : 4, elapsed : 0.3495290279388428\n",
            "[2025/10/07 11:44:07] ppocr DEBUG: cls num  : 4, elapsed : 0.17763328552246094\n",
            "[2025/10/07 11:44:08] ppocr DEBUG: rec_res num  : 4, elapsed : 0.7995598316192627\n"
          ]
        },
        {
          "name": "stderr",
          "output_type": "stream",
          "text": [
            "  4%|▍         | 9/221 [00:06<02:09,  1.64it/s]"
          ]
        },
        {
          "name": "stdout",
          "output_type": "stream",
          "text": [
            "[2025/10/07 11:44:09] ppocr DEBUG: dt_boxes num : 0, elapsed : 0.10793876647949219\n",
            "[2025/10/07 11:44:09] ppocr DEBUG: cls num  : 0, elapsed : 0\n",
            "[2025/10/07 11:44:09] ppocr DEBUG: rec_res num  : 0, elapsed : 0.0\n"
          ]
        },
        {
          "name": "stderr",
          "output_type": "stream",
          "text": [
            "  5%|▍         | 10/221 [00:06<01:51,  1.89it/s]"
          ]
        },
        {
          "name": "stdout",
          "output_type": "stream",
          "text": [
            "[2025/10/07 11:44:09] ppocr DEBUG: dt_boxes num : 0, elapsed : 0.08920812606811523\n",
            "[2025/10/07 11:44:09] ppocr DEBUG: cls num  : 0, elapsed : 0\n",
            "[2025/10/07 11:44:09] ppocr DEBUG: rec_res num  : 0, elapsed : 0.0\n"
          ]
        },
        {
          "name": "stderr",
          "output_type": "stream",
          "text": [
            "  5%|▌         | 12/221 [00:07<01:20,  2.59it/s]"
          ]
        },
        {
          "name": "stdout",
          "output_type": "stream",
          "text": [
            "[2025/10/07 11:44:10] ppocr DEBUG: dt_boxes num : 0, elapsed : 0.11309480667114258\n",
            "[2025/10/07 11:44:10] ppocr DEBUG: cls num  : 0, elapsed : 0\n",
            "[2025/10/07 11:44:10] ppocr DEBUG: rec_res num  : 0, elapsed : 0.0\n"
          ]
        },
        {
          "name": "stderr",
          "output_type": "stream",
          "text": [
            "  6%|▌         | 13/221 [00:07<01:18,  2.65it/s]"
          ]
        },
        {
          "name": "stdout",
          "output_type": "stream",
          "text": [
            "[2025/10/07 11:44:10] ppocr DEBUG: dt_boxes num : 0, elapsed : 0.1974027156829834\n",
            "[2025/10/07 11:44:10] ppocr DEBUG: cls num  : 0, elapsed : 0\n",
            "[2025/10/07 11:44:10] ppocr DEBUG: rec_res num  : 0, elapsed : 0.0\n"
          ]
        },
        {
          "name": "stderr",
          "output_type": "stream",
          "text": [
            "  9%|▊         | 19/221 [00:09<00:41,  4.87it/s]"
          ]
        },
        {
          "name": "stdout",
          "output_type": "stream",
          "text": [
            "[2025/10/07 11:44:11] ppocr DEBUG: dt_boxes num : 0, elapsed : 0.13480281829833984\n",
            "[2025/10/07 11:44:11] ppocr DEBUG: cls num  : 0, elapsed : 0\n",
            "[2025/10/07 11:44:11] ppocr DEBUG: rec_res num  : 0, elapsed : 0.0\n"
          ]
        },
        {
          "name": "stderr",
          "output_type": "stream",
          "text": [
            " 10%|▉         | 21/221 [00:09<00:51,  3.90it/s]"
          ]
        },
        {
          "name": "stdout",
          "output_type": "stream",
          "text": [
            "[2025/10/07 11:44:12] ppocr DEBUG: dt_boxes num : 0, elapsed : 0.03337359428405762\n",
            "[2025/10/07 11:44:12] ppocr DEBUG: cls num  : 0, elapsed : 0\n",
            "[2025/10/07 11:44:12] ppocr DEBUG: rec_res num  : 0, elapsed : 0.0\n",
            "[2025/10/07 11:44:12] ppocr DEBUG: dt_boxes num : 0, elapsed : 0.021027803421020508\n",
            "[2025/10/07 11:44:12] ppocr DEBUG: cls num  : 0, elapsed : 0\n",
            "[2025/10/07 11:44:12] ppocr DEBUG: rec_res num  : 0, elapsed : 0.0\n"
          ]
        },
        {
          "name": "stderr",
          "output_type": "stream",
          "text": [
            " 10%|▉         | 22/221 [00:10<01:24,  2.34it/s]"
          ]
        },
        {
          "name": "stdout",
          "output_type": "stream",
          "text": [
            "[2025/10/07 11:44:13] ppocr DEBUG: dt_boxes num : 0, elapsed : 0.10049223899841309\n",
            "[2025/10/07 11:44:13] ppocr DEBUG: cls num  : 0, elapsed : 0\n",
            "[2025/10/07 11:44:13] ppocr DEBUG: rec_res num  : 0, elapsed : 0.0\n",
            "[2025/10/07 11:44:13] ppocr DEBUG: dt_boxes num : 0, elapsed : 0.1280062198638916\n",
            "[2025/10/07 11:44:13] ppocr DEBUG: cls num  : 0, elapsed : 0\n",
            "[2025/10/07 11:44:13] ppocr DEBUG: rec_res num  : 0, elapsed : 0.0\n"
          ]
        },
        {
          "name": "stderr",
          "output_type": "stream",
          "text": [
            " 12%|█▏        | 26/221 [00:11<00:55,  3.53it/s]"
          ]
        },
        {
          "name": "stdout",
          "output_type": "stream",
          "text": [
            "[2025/10/07 11:44:14] ppocr DEBUG: dt_boxes num : 13, elapsed : 0.3260197639465332\n",
            "[2025/10/07 11:44:14] ppocr DEBUG: cls num  : 13, elapsed : 0.1838822364807129\n",
            "[2025/10/07 11:44:16] ppocr DEBUG: rec_res num  : 13, elapsed : 1.8817625045776367\n",
            "[2025/10/07 11:44:17] ppocr DEBUG: dt_boxes num : 1, elapsed : 0.5503664016723633\n",
            "[2025/10/07 11:44:17] ppocr DEBUG: cls num  : 1, elapsed : 0.012187004089355469\n",
            "[2025/10/07 11:44:17] ppocr DEBUG: rec_res num  : 1, elapsed : 0.21648645401000977\n"
          ]
        },
        {
          "name": "stderr",
          "output_type": "stream",
          "text": [
            " 14%|█▍        | 31/221 [00:16<01:31,  2.07it/s]"
          ]
        },
        {
          "name": "stdout",
          "output_type": "stream",
          "text": [
            "[2025/10/07 11:44:19] ppocr DEBUG: dt_boxes num : 2, elapsed : 0.3230116367340088\n",
            "[2025/10/07 11:44:19] ppocr DEBUG: cls num  : 2, elapsed : 0.05962038040161133\n",
            "[2025/10/07 11:44:19] ppocr DEBUG: rec_res num  : 2, elapsed : 0.36557602882385254\n"
          ]
        },
        {
          "name": "stderr",
          "output_type": "stream",
          "text": [
            " 15%|█▌        | 34/221 [00:17<01:18,  2.39it/s]"
          ]
        },
        {
          "name": "stdout",
          "output_type": "stream",
          "text": [
            "[2025/10/07 11:44:20] ppocr DEBUG: dt_boxes num : 0, elapsed : 0.07248210906982422\n",
            "[2025/10/07 11:44:20] ppocr DEBUG: cls num  : 0, elapsed : 0\n",
            "[2025/10/07 11:44:20] ppocr DEBUG: rec_res num  : 0, elapsed : 0.0\n",
            "[2025/10/07 11:44:20] ppocr DEBUG: dt_boxes num : 0, elapsed : 0.08082056045532227\n",
            "[2025/10/07 11:44:20] ppocr DEBUG: cls num  : 0, elapsed : 0\n",
            "[2025/10/07 11:44:20] ppocr DEBUG: rec_res num  : 0, elapsed : 0.0\n",
            "[2025/10/07 11:44:20] ppocr DEBUG: dt_boxes num : 0, elapsed : 0.13365507125854492\n",
            "[2025/10/07 11:44:20] ppocr DEBUG: cls num  : 0, elapsed : 0\n",
            "[2025/10/07 11:44:20] ppocr DEBUG: rec_res num  : 0, elapsed : 0.0\n",
            "[2025/10/07 11:44:20] ppocr DEBUG: dt_boxes num : 0, elapsed : 0.19931435585021973\n",
            "[2025/10/07 11:44:20] ppocr DEBUG: cls num  : 0, elapsed : 0\n",
            "[2025/10/07 11:44:20] ppocr DEBUG: rec_res num  : 0, elapsed : 0.0\n"
          ]
        },
        {
          "name": "stderr",
          "output_type": "stream",
          "text": [
            " 17%|█▋        | 38/221 [00:19<01:00,  3.04it/s]"
          ]
        },
        {
          "name": "stdout",
          "output_type": "stream",
          "text": [
            "[2025/10/07 11:44:21] ppocr DEBUG: dt_boxes num : 0, elapsed : 0.06305956840515137\n",
            "[2025/10/07 11:44:21] ppocr DEBUG: cls num  : 0, elapsed : 0\n",
            "[2025/10/07 11:44:21] ppocr DEBUG: rec_res num  : 0, elapsed : 0.0\n"
          ]
        },
        {
          "name": "stderr",
          "output_type": "stream",
          "text": [
            " 19%|█▊        | 41/221 [00:19<00:42,  4.24it/s]"
          ]
        },
        {
          "name": "stdout",
          "output_type": "stream",
          "text": [
            "[2025/10/07 11:44:22] ppocr DEBUG: dt_boxes num : 0, elapsed : 0.24631524085998535\n",
            "[2025/10/07 11:44:22] ppocr DEBUG: cls num  : 0, elapsed : 0\n",
            "[2025/10/07 11:44:22] ppocr DEBUG: rec_res num  : 0, elapsed : 0.0\n"
          ]
        },
        {
          "name": "stderr",
          "output_type": "stream",
          "text": [
            " 19%|█▉        | 42/221 [00:20<00:57,  3.11it/s]"
          ]
        },
        {
          "name": "stdout",
          "output_type": "stream",
          "text": [
            "[2025/10/07 11:44:22] ppocr DEBUG: dt_boxes num : 0, elapsed : 0.15534138679504395\n",
            "[2025/10/07 11:44:22] ppocr DEBUG: cls num  : 0, elapsed : 0\n",
            "[2025/10/07 11:44:22] ppocr DEBUG: rec_res num  : 0, elapsed : 0.0\n"
          ]
        },
        {
          "name": "stderr",
          "output_type": "stream",
          "text": [
            " 19%|█▉        | 43/221 [00:20<01:04,  2.77it/s]"
          ]
        },
        {
          "name": "stdout",
          "output_type": "stream",
          "text": [
            "[2025/10/07 11:44:23] ppocr DEBUG: dt_boxes num : 0, elapsed : 0.12061262130737305\n",
            "[2025/10/07 11:44:23] ppocr DEBUG: cls num  : 0, elapsed : 0\n",
            "[2025/10/07 11:44:23] ppocr DEBUG: rec_res num  : 0, elapsed : 0.0\n"
          ]
        },
        {
          "name": "stderr",
          "output_type": "stream",
          "text": [
            " 20%|██        | 45/221 [00:21<00:58,  3.01it/s]"
          ]
        },
        {
          "name": "stdout",
          "output_type": "stream",
          "text": [
            "[2025/10/07 11:44:23] ppocr DEBUG: dt_boxes num : 0, elapsed : 0.13769865036010742\n",
            "[2025/10/07 11:44:23] ppocr DEBUG: cls num  : 0, elapsed : 0\n",
            "[2025/10/07 11:44:23] ppocr DEBUG: rec_res num  : 0, elapsed : 0.0\n"
          ]
        },
        {
          "name": "stderr",
          "output_type": "stream",
          "text": [
            " 21%|██▏       | 47/221 [00:22<00:53,  3.28it/s]"
          ]
        },
        {
          "name": "stdout",
          "output_type": "stream",
          "text": [
            "[2025/10/07 11:44:27] ppocr DEBUG: dt_boxes num : 0, elapsed : 1.2876734733581543\n",
            "[2025/10/07 11:44:27] ppocr DEBUG: cls num  : 0, elapsed : 0\n",
            "[2025/10/07 11:44:27] ppocr DEBUG: rec_res num  : 0, elapsed : 0.0\n",
            "[2025/10/07 11:44:27] ppocr DEBUG: dt_boxes num : 0, elapsed : 0.10036230087280273\n",
            "[2025/10/07 11:44:27] ppocr DEBUG: cls num  : 0, elapsed : 0\n",
            "[2025/10/07 11:44:27] ppocr DEBUG: rec_res num  : 0, elapsed : 0.0\n",
            "[2025/10/07 11:44:29] ppocr DEBUG: dt_boxes num : 0, elapsed : 1.3170349597930908\n",
            "[2025/10/07 11:44:29] ppocr DEBUG: cls num  : 0, elapsed : 0\n",
            "[2025/10/07 11:44:29] ppocr DEBUG: rec_res num  : 0, elapsed : 0.0\n"
          ]
        },
        {
          "name": "stderr",
          "output_type": "stream",
          "text": [
            " 22%|██▏       | 48/221 [00:27<04:58,  1.73s/it]"
          ]
        },
        {
          "name": "stdout",
          "output_type": "stream",
          "text": [
            "[2025/10/07 11:44:33] ppocr DEBUG: dt_boxes num : 0, elapsed : 1.5914645195007324\n",
            "[2025/10/07 11:44:33] ppocr DEBUG: cls num  : 0, elapsed : 0\n",
            "[2025/10/07 11:44:33] ppocr DEBUG: rec_res num  : 0, elapsed : 0.0\n",
            "[2025/10/07 11:44:35] ppocr DEBUG: dt_boxes num : 0, elapsed : 1.8476316928863525\n",
            "[2025/10/07 11:44:35] ppocr DEBUG: cls num  : 0, elapsed : 0\n",
            "[2025/10/07 11:44:35] ppocr DEBUG: rec_res num  : 0, elapsed : 0.0\n",
            "[2025/10/07 11:44:35] ppocr DEBUG: dt_boxes num : 0, elapsed : 0.14773106575012207\n",
            "[2025/10/07 11:44:35] ppocr DEBUG: cls num  : 0, elapsed : 0\n",
            "[2025/10/07 11:44:35] ppocr DEBUG: rec_res num  : 0, elapsed : 0.0\n",
            "[2025/10/07 11:44:37] ppocr DEBUG: dt_boxes num : 0, elapsed : 1.2497320175170898\n",
            "[2025/10/07 11:44:37] ppocr DEBUG: cls num  : 0, elapsed : 0\n",
            "[2025/10/07 11:44:37] ppocr DEBUG: rec_res num  : 0, elapsed : 0.0\n"
          ]
        },
        {
          "name": "stderr",
          "output_type": "stream",
          "text": [
            " 22%|██▏       | 49/221 [00:35<10:25,  3.63s/it]"
          ]
        },
        {
          "name": "stdout",
          "output_type": "stream",
          "text": [
            "[2025/10/07 11:44:37] ppocr DEBUG: dt_boxes num : 1, elapsed : 0.17217469215393066\n",
            "[2025/10/07 11:44:37] ppocr DEBUG: cls num  : 1, elapsed : 0.05731058120727539\n",
            "[2025/10/07 11:44:38] ppocr DEBUG: rec_res num  : 1, elapsed : 0.12227058410644531\n"
          ]
        },
        {
          "name": "stderr",
          "output_type": "stream",
          "text": [
            " 23%|██▎       | 50/221 [00:35<07:50,  2.75s/it]"
          ]
        },
        {
          "name": "stdout",
          "output_type": "stream",
          "text": [
            "[2025/10/07 11:44:38] ppocr DEBUG: dt_boxes num : 3, elapsed : 0.16340112686157227\n",
            "[2025/10/07 11:44:38] ppocr DEBUG: cls num  : 3, elapsed : 0.05289864540100098\n",
            "[2025/10/07 11:44:38] ppocr DEBUG: rec_res num  : 3, elapsed : 0.39452219009399414\n"
          ]
        },
        {
          "name": "stderr",
          "output_type": "stream",
          "text": [
            " 25%|██▌       | 56/221 [00:37<01:26,  1.91it/s]"
          ]
        },
        {
          "name": "stdout",
          "output_type": "stream",
          "text": [
            "[2025/10/07 11:44:40] ppocr DEBUG: dt_boxes num : 0, elapsed : 0.06598472595214844\n",
            "[2025/10/07 11:44:40] ppocr DEBUG: cls num  : 0, elapsed : 0\n",
            "[2025/10/07 11:44:40] ppocr DEBUG: rec_res num  : 0, elapsed : 0.0\n",
            "[2025/10/07 11:44:40] ppocr DEBUG: dt_boxes num : 0, elapsed : 0.013142585754394531\n",
            "[2025/10/07 11:44:40] ppocr DEBUG: cls num  : 0, elapsed : 0\n",
            "[2025/10/07 11:44:40] ppocr DEBUG: rec_res num  : 0, elapsed : 0.0\n"
          ]
        },
        {
          "name": "stderr",
          "output_type": "stream",
          "text": [
            " 26%|██▌       | 57/221 [00:38<01:20,  2.03it/s]"
          ]
        },
        {
          "name": "stdout",
          "output_type": "stream",
          "text": [
            "[2025/10/07 11:44:40] ppocr DEBUG: dt_boxes num : 0, elapsed : 0.12140822410583496\n",
            "[2025/10/07 11:44:40] ppocr DEBUG: cls num  : 0, elapsed : 0\n",
            "[2025/10/07 11:44:40] ppocr DEBUG: rec_res num  : 0, elapsed : 0.0\n"
          ]
        },
        {
          "name": "stderr",
          "output_type": "stream",
          "text": [
            " 27%|██▋       | 60/221 [00:38<00:51,  3.13it/s]"
          ]
        },
        {
          "name": "stdout",
          "output_type": "stream",
          "text": [
            "[2025/10/07 11:44:41] ppocr DEBUG: dt_boxes num : 0, elapsed : 0.005242824554443359\n",
            "[2025/10/07 11:44:41] ppocr DEBUG: cls num  : 0, elapsed : 0\n",
            "[2025/10/07 11:44:41] ppocr DEBUG: rec_res num  : 0, elapsed : 0.0\n",
            "[2025/10/07 11:44:41] ppocr DEBUG: dt_boxes num : 0, elapsed : 0.10098552703857422\n",
            "[2025/10/07 11:44:41] ppocr DEBUG: cls num  : 0, elapsed : 0\n",
            "[2025/10/07 11:44:41] ppocr DEBUG: rec_res num  : 0, elapsed : 0.0\n",
            "[2025/10/07 11:44:41] ppocr DEBUG: dt_boxes num : 0, elapsed : 0.14370250701904297\n",
            "[2025/10/07 11:44:41] ppocr DEBUG: cls num  : 0, elapsed : 0\n",
            "[2025/10/07 11:44:41] ppocr DEBUG: rec_res num  : 0, elapsed : 0.0\n",
            "[2025/10/07 11:44:41] ppocr DEBUG: dt_boxes num : 0, elapsed : 0.24296283721923828\n",
            "[2025/10/07 11:44:42] ppocr DEBUG: cls num  : 0, elapsed : 0\n",
            "[2025/10/07 11:44:42] ppocr DEBUG: rec_res num  : 0, elapsed : 0.0\n",
            "[2025/10/07 11:44:42] ppocr DEBUG: dt_boxes num : 0, elapsed : 0.19957876205444336\n",
            "[2025/10/07 11:44:42] ppocr DEBUG: cls num  : 0, elapsed : 0\n",
            "[2025/10/07 11:44:42] ppocr DEBUG: rec_res num  : 0, elapsed : 0.0\n"
          ]
        },
        {
          "name": "stderr",
          "output_type": "stream",
          "text": [
            " 29%|██▉       | 64/221 [00:40<00:53,  2.93it/s]"
          ]
        },
        {
          "name": "stdout",
          "output_type": "stream",
          "text": [
            "[2025/10/07 11:44:43] ppocr DEBUG: dt_boxes num : 0, elapsed : 0.08082938194274902\n",
            "[2025/10/07 11:44:43] ppocr DEBUG: cls num  : 0, elapsed : 0\n",
            "[2025/10/07 11:44:43] ppocr DEBUG: rec_res num  : 0, elapsed : 0.0\n",
            "[2025/10/07 11:44:43] ppocr DEBUG: dt_boxes num : 0, elapsed : 0.1030876636505127\n",
            "[2025/10/07 11:44:43] ppocr DEBUG: cls num  : 0, elapsed : 0\n",
            "[2025/10/07 11:44:43] ppocr DEBUG: rec_res num  : 0, elapsed : 0.0\n"
          ]
        },
        {
          "name": "stderr",
          "output_type": "stream",
          "text": [
            " 29%|██▉       | 65/221 [00:41<00:59,  2.62it/s]"
          ]
        },
        {
          "name": "stdout",
          "output_type": "stream",
          "text": [
            "[2025/10/07 11:44:44] ppocr DEBUG: dt_boxes num : 7, elapsed : 0.3164064884185791\n",
            "[2025/10/07 11:44:44] ppocr DEBUG: cls num  : 7, elapsed : 0.11608219146728516\n",
            "[2025/10/07 11:44:52] ppocr DEBUG: rec_res num  : 7, elapsed : 7.909969091415405\n"
          ]
        },
        {
          "name": "stderr",
          "output_type": "stream",
          "text": [
            " 32%|███▏      | 70/221 [00:52<02:31,  1.00s/it]"
          ]
        },
        {
          "name": "stdout",
          "output_type": "stream",
          "text": [
            "[2025/10/07 11:44:55] ppocr DEBUG: dt_boxes num : 0, elapsed : 0.6817939281463623\n",
            "[2025/10/07 11:44:55] ppocr DEBUG: cls num  : 0, elapsed : 0\n",
            "[2025/10/07 11:44:55] ppocr DEBUG: rec_res num  : 0, elapsed : 0.0\n"
          ]
        },
        {
          "name": "stderr",
          "output_type": "stream",
          "text": [
            " 33%|███▎      | 72/221 [00:53<01:54,  1.30it/s]"
          ]
        },
        {
          "name": "stdout",
          "output_type": "stream",
          "text": [
            "[2025/10/07 11:44:56] ppocr DEBUG: dt_boxes num : 9, elapsed : 0.38350725173950195\n",
            "[2025/10/07 11:44:56] ppocr DEBUG: cls num  : 9, elapsed : 0.2830967903137207\n",
            "[2025/10/07 11:44:57] ppocr DEBUG: rec_res num  : 9, elapsed : 1.08270263671875\n"
          ]
        },
        {
          "name": "stderr",
          "output_type": "stream",
          "text": [
            " 33%|███▎      | 73/221 [00:55<02:51,  1.16s/it]"
          ]
        },
        {
          "name": "stdout",
          "output_type": "stream",
          "text": [
            "[2025/10/07 11:45:01] ppocr DEBUG: dt_boxes num : 0, elapsed : 1.8642520904541016\n",
            "[2025/10/07 11:45:01] ppocr DEBUG: cls num  : 0, elapsed : 0\n",
            "[2025/10/07 11:45:01] ppocr DEBUG: rec_res num  : 0, elapsed : 0.0\n"
          ]
        },
        {
          "name": "stderr",
          "output_type": "stream",
          "text": [
            " 37%|███▋      | 81/221 [01:00<00:47,  2.97it/s]"
          ]
        },
        {
          "name": "stdout",
          "output_type": "stream",
          "text": [
            "[2025/10/07 11:45:04] ppocr DEBUG: dt_boxes num : 21, elapsed : 1.0167980194091797\n",
            "[2025/10/07 11:45:04] ppocr DEBUG: cls num  : 21, elapsed : 0.0701897144317627\n",
            "[2025/10/07 11:45:08] ppocr DEBUG: rec_res num  : 21, elapsed : 4.412431955337524\n"
          ]
        },
        {
          "name": "stderr",
          "output_type": "stream",
          "text": [
            " 38%|███▊      | 83/221 [01:07<03:28,  1.51s/it]"
          ]
        },
        {
          "name": "stdout",
          "output_type": "stream",
          "text": [
            "[2025/10/07 11:45:10] ppocr DEBUG: dt_boxes num : 0, elapsed : 0.8665463924407959\n",
            "[2025/10/07 11:45:10] ppocr DEBUG: cls num  : 0, elapsed : 0\n",
            "[2025/10/07 11:45:10] ppocr DEBUG: rec_res num  : 0, elapsed : 0.0\n"
          ]
        },
        {
          "name": "stderr",
          "output_type": "stream",
          "text": [
            " 38%|███▊      | 85/221 [01:08<02:24,  1.06s/it]"
          ]
        },
        {
          "name": "stdout",
          "output_type": "stream",
          "text": [
            "[2025/10/07 11:45:11] ppocr DEBUG: dt_boxes num : 0, elapsed : 0.18414998054504395\n",
            "[2025/10/07 11:45:11] ppocr DEBUG: cls num  : 0, elapsed : 0\n",
            "[2025/10/07 11:45:11] ppocr DEBUG: rec_res num  : 0, elapsed : 0.0\n",
            "[2025/10/07 11:45:11] ppocr DEBUG: dt_boxes num : 0, elapsed : 0.2483689785003662\n",
            "[2025/10/07 11:45:11] ppocr DEBUG: cls num  : 0, elapsed : 0\n",
            "[2025/10/07 11:45:11] ppocr DEBUG: rec_res num  : 0, elapsed : 0.0\n"
          ]
        },
        {
          "name": "stderr",
          "output_type": "stream",
          "text": [
            " 40%|███▉      | 88/221 [01:09<01:18,  1.70it/s]"
          ]
        },
        {
          "name": "stdout",
          "output_type": "stream",
          "text": [
            "[2025/10/07 11:45:12] ppocr DEBUG: dt_boxes num : 0, elapsed : 0.007868051528930664\n",
            "[2025/10/07 11:45:12] ppocr DEBUG: cls num  : 0, elapsed : 0\n",
            "[2025/10/07 11:45:12] ppocr DEBUG: rec_res num  : 0, elapsed : 0.0\n",
            "[2025/10/07 11:45:12] ppocr DEBUG: dt_boxes num : 0, elapsed : 0.13396739959716797\n",
            "[2025/10/07 11:45:12] ppocr DEBUG: cls num  : 0, elapsed : 0\n",
            "[2025/10/07 11:45:12] ppocr DEBUG: rec_res num  : 0, elapsed : 0.0\n"
          ]
        },
        {
          "name": "stderr",
          "output_type": "stream",
          "text": [
            " 43%|████▎     | 95/221 [01:11<00:26,  4.72it/s]"
          ]
        },
        {
          "name": "stdout",
          "output_type": "stream",
          "text": [
            "[2025/10/07 11:45:14] ppocr DEBUG: dt_boxes num : 0, elapsed : 0.36927366256713867\n",
            "[2025/10/07 11:45:14] ppocr DEBUG: cls num  : 0, elapsed : 0\n",
            "[2025/10/07 11:45:14] ppocr DEBUG: rec_res num  : 0, elapsed : 0.0\n"
          ]
        },
        {
          "name": "stderr",
          "output_type": "stream",
          "text": [
            " 47%|████▋     | 103/221 [01:13<00:24,  4.84it/s]"
          ]
        },
        {
          "name": "stdout",
          "output_type": "stream",
          "text": [
            "[2025/10/07 11:45:15] ppocr DEBUG: dt_boxes num : 0, elapsed : 0.22841787338256836\n",
            "[2025/10/07 11:45:15] ppocr DEBUG: cls num  : 0, elapsed : 0\n",
            "[2025/10/07 11:45:15] ppocr DEBUG: rec_res num  : 0, elapsed : 0.0\n"
          ]
        },
        {
          "name": "stderr",
          "output_type": "stream",
          "text": [
            " 48%|████▊     | 105/221 [01:13<00:29,  3.97it/s]"
          ]
        },
        {
          "name": "stdout",
          "output_type": "stream",
          "text": [
            "[2025/10/07 11:45:16] ppocr DEBUG: dt_boxes num : 0, elapsed : 0.20028448104858398\n",
            "[2025/10/07 11:45:16] ppocr DEBUG: cls num  : 0, elapsed : 0\n",
            "[2025/10/07 11:45:16] ppocr DEBUG: rec_res num  : 0, elapsed : 0.0\n",
            "[2025/10/07 11:45:16] ppocr DEBUG: dt_boxes num : 0, elapsed : 0.008000850677490234\n",
            "[2025/10/07 11:45:16] ppocr DEBUG: cls num  : 0, elapsed : 0\n",
            "[2025/10/07 11:45:16] ppocr DEBUG: rec_res num  : 0, elapsed : 0.0\n",
            "[2025/10/07 11:45:16] ppocr DEBUG: dt_boxes num : 0, elapsed : 0.14850902557373047\n",
            "[2025/10/07 11:45:16] ppocr DEBUG: cls num  : 0, elapsed : 0\n",
            "[2025/10/07 11:45:16] ppocr DEBUG: rec_res num  : 0, elapsed : 0.0\n"
          ]
        },
        {
          "name": "stderr",
          "output_type": "stream",
          "text": [
            " 48%|████▊     | 106/221 [01:14<00:45,  2.56it/s]"
          ]
        },
        {
          "name": "stdout",
          "output_type": "stream",
          "text": [
            "[2025/10/07 11:45:17] ppocr DEBUG: dt_boxes num : 0, elapsed : 0.18465495109558105\n",
            "[2025/10/07 11:45:17] ppocr DEBUG: cls num  : 0, elapsed : 0\n",
            "[2025/10/07 11:45:17] ppocr DEBUG: rec_res num  : 0, elapsed : 0.0\n"
          ]
        },
        {
          "name": "stderr",
          "output_type": "stream",
          "text": [
            " 50%|████▉     | 110/221 [01:15<00:26,  4.15it/s]"
          ]
        },
        {
          "name": "stdout",
          "output_type": "stream",
          "text": [
            "[2025/10/07 11:45:17] ppocr DEBUG: dt_boxes num : 0, elapsed : 0.016726970672607422\n",
            "[2025/10/07 11:45:17] ppocr DEBUG: cls num  : 0, elapsed : 0\n",
            "[2025/10/07 11:45:17] ppocr DEBUG: rec_res num  : 0, elapsed : 0.0\n"
          ]
        },
        {
          "name": "stderr",
          "output_type": "stream",
          "text": [
            " 51%|█████     | 112/221 [01:15<00:24,  4.53it/s]"
          ]
        },
        {
          "name": "stdout",
          "output_type": "stream",
          "text": [
            "[2025/10/07 11:45:18] ppocr DEBUG: dt_boxes num : 0, elapsed : 0.09985518455505371\n",
            "[2025/10/07 11:45:18] ppocr DEBUG: cls num  : 0, elapsed : 0\n",
            "[2025/10/07 11:45:18] ppocr DEBUG: rec_res num  : 0, elapsed : 0.0\n",
            "[2025/10/07 11:45:18] ppocr DEBUG: dt_boxes num : 0, elapsed : 0.1278533935546875\n",
            "[2025/10/07 11:45:18] ppocr DEBUG: cls num  : 0, elapsed : 0\n",
            "[2025/10/07 11:45:18] ppocr DEBUG: rec_res num  : 0, elapsed : 0.0\n"
          ]
        },
        {
          "name": "stderr",
          "output_type": "stream",
          "text": [
            " 51%|█████     | 113/221 [01:16<00:33,  3.24it/s]"
          ]
        },
        {
          "name": "stdout",
          "output_type": "stream",
          "text": [
            "[2025/10/07 11:45:19] ppocr DEBUG: dt_boxes num : 0, elapsed : 0.2245774269104004\n",
            "[2025/10/07 11:45:19] ppocr DEBUG: cls num  : 0, elapsed : 0\n",
            "[2025/10/07 11:45:19] ppocr DEBUG: rec_res num  : 0, elapsed : 0.0\n"
          ]
        },
        {
          "name": "stderr",
          "output_type": "stream",
          "text": [
            " 52%|█████▏    | 115/221 [01:17<00:29,  3.54it/s]"
          ]
        },
        {
          "name": "stdout",
          "output_type": "stream",
          "text": [
            "[2025/10/07 11:45:19] ppocr DEBUG: dt_boxes num : 0, elapsed : 0.2088921070098877\n",
            "[2025/10/07 11:45:19] ppocr DEBUG: cls num  : 0, elapsed : 0\n",
            "[2025/10/07 11:45:19] ppocr DEBUG: rec_res num  : 0, elapsed : 0.0\n"
          ]
        },
        {
          "name": "stderr",
          "output_type": "stream",
          "text": [
            " 52%|█████▏    | 116/221 [01:17<00:33,  3.15it/s]"
          ]
        },
        {
          "name": "stdout",
          "output_type": "stream",
          "text": [
            "[2025/10/07 11:45:19] ppocr DEBUG: dt_boxes num : 0, elapsed : 0.12059187889099121\n",
            "[2025/10/07 11:45:20] ppocr DEBUG: cls num  : 0, elapsed : 0\n",
            "[2025/10/07 11:45:20] ppocr DEBUG: rec_res num  : 0, elapsed : 0.0\n"
          ]
        },
        {
          "name": "stderr",
          "output_type": "stream",
          "text": [
            " 53%|█████▎    | 117/221 [01:17<00:34,  3.01it/s]"
          ]
        },
        {
          "name": "stdout",
          "output_type": "stream",
          "text": [
            "[2025/10/07 11:45:20] ppocr DEBUG: dt_boxes num : 0, elapsed : 0.2190093994140625\n",
            "[2025/10/07 11:45:20] ppocr DEBUG: cls num  : 0, elapsed : 0\n",
            "[2025/10/07 11:45:20] ppocr DEBUG: rec_res num  : 0, elapsed : 0.0\n",
            "[2025/10/07 11:45:20] ppocr DEBUG: dt_boxes num : 0, elapsed : 0.15577459335327148\n",
            "[2025/10/07 11:45:20] ppocr DEBUG: cls num  : 0, elapsed : 0\n",
            "[2025/10/07 11:45:20] ppocr DEBUG: rec_res num  : 0, elapsed : 0.0\n",
            "[2025/10/07 11:45:21] ppocr DEBUG: dt_boxes num : 0, elapsed : 0.31626081466674805\n",
            "[2025/10/07 11:45:21] ppocr DEBUG: cls num  : 0, elapsed : 0\n",
            "[2025/10/07 11:45:21] ppocr DEBUG: rec_res num  : 0, elapsed : 0.0\n"
          ]
        },
        {
          "name": "stderr",
          "output_type": "stream",
          "text": [
            " 54%|█████▍    | 119/221 [01:19<00:45,  2.23it/s]"
          ]
        },
        {
          "name": "stdout",
          "output_type": "stream",
          "text": [
            "[2025/10/07 11:45:21] ppocr DEBUG: dt_boxes num : 12, elapsed : 0.28322696685791016\n",
            "[2025/10/07 11:45:22] ppocr DEBUG: cls num  : 12, elapsed : 0.1818068027496338\n",
            "[2025/10/07 11:45:23] ppocr DEBUG: rec_res num  : 12, elapsed : 1.5637776851654053\n"
          ]
        },
        {
          "name": "stderr",
          "output_type": "stream",
          "text": [
            " 57%|█████▋    | 126/221 [01:22<00:26,  3.59it/s]"
          ]
        },
        {
          "name": "stdout",
          "output_type": "stream",
          "text": [
            "[2025/10/07 11:45:25] ppocr DEBUG: dt_boxes num : 5, elapsed : 0.28101062774658203\n",
            "[2025/10/07 11:45:25] ppocr DEBUG: cls num  : 5, elapsed : 0.09522652626037598\n",
            "[2025/10/07 11:45:25] ppocr DEBUG: rec_res num  : 5, elapsed : 0.5841238498687744\n",
            "[2025/10/07 11:45:26] ppocr DEBUG: dt_boxes num : 0, elapsed : 0.19470882415771484\n",
            "[2025/10/07 11:45:26] ppocr DEBUG: cls num  : 0, elapsed : 0\n",
            "[2025/10/07 11:45:26] ppocr DEBUG: rec_res num  : 0, elapsed : 0.0\n"
          ]
        },
        {
          "name": "stderr",
          "output_type": "stream",
          "text": [
            " 58%|█████▊    | 128/221 [01:24<00:44,  2.08it/s]"
          ]
        },
        {
          "name": "stdout",
          "output_type": "stream",
          "text": [
            "[2025/10/07 11:45:26] ppocr DEBUG: dt_boxes num : 0, elapsed : 0.10120654106140137\n",
            "[2025/10/07 11:45:26] ppocr DEBUG: cls num  : 0, elapsed : 0\n",
            "[2025/10/07 11:45:26] ppocr DEBUG: rec_res num  : 0, elapsed : 0.0\n"
          ]
        },
        {
          "name": "stderr",
          "output_type": "stream",
          "text": [
            " 59%|█████▉    | 130/221 [01:24<00:33,  2.70it/s]"
          ]
        },
        {
          "name": "stdout",
          "output_type": "stream",
          "text": [
            "[2025/10/07 11:45:27] ppocr DEBUG: dt_boxes num : 0, elapsed : 0.12054085731506348\n",
            "[2025/10/07 11:45:27] ppocr DEBUG: cls num  : 0, elapsed : 0\n",
            "[2025/10/07 11:45:27] ppocr DEBUG: rec_res num  : 0, elapsed : 0.0\n"
          ]
        },
        {
          "name": "stderr",
          "output_type": "stream",
          "text": [
            " 59%|█████▉    | 131/221 [01:24<00:33,  2.66it/s]"
          ]
        },
        {
          "name": "stdout",
          "output_type": "stream",
          "text": [
            "[2025/10/07 11:45:27] ppocr DEBUG: dt_boxes num : 0, elapsed : 0.10156369209289551\n",
            "[2025/10/07 11:45:27] ppocr DEBUG: cls num  : 0, elapsed : 0\n",
            "[2025/10/07 11:45:27] ppocr DEBUG: rec_res num  : 0, elapsed : 0.0\n"
          ]
        },
        {
          "name": "stderr",
          "output_type": "stream",
          "text": [
            " 60%|█████▉    | 132/221 [01:25<00:33,  2.66it/s]"
          ]
        },
        {
          "name": "stdout",
          "output_type": "stream",
          "text": [
            "[2025/10/07 11:45:28] ppocr DEBUG: dt_boxes num : 0, elapsed : 0.31617093086242676\n",
            "[2025/10/07 11:45:28] ppocr DEBUG: cls num  : 0, elapsed : 0\n",
            "[2025/10/07 11:45:28] ppocr DEBUG: rec_res num  : 0, elapsed : 0.0\n"
          ]
        },
        {
          "name": "stderr",
          "output_type": "stream",
          "text": [
            " 61%|██████    | 135/221 [01:27<00:46,  1.83it/s]"
          ]
        },
        {
          "name": "stdout",
          "output_type": "stream",
          "text": [
            "[2025/10/07 11:45:30] ppocr DEBUG: dt_boxes num : 0, elapsed : 0.12926435470581055\n",
            "[2025/10/07 11:45:30] ppocr DEBUG: cls num  : 0, elapsed : 0\n",
            "[2025/10/07 11:45:30] ppocr DEBUG: rec_res num  : 0, elapsed : 0.0\n"
          ]
        },
        {
          "name": "stderr",
          "output_type": "stream",
          "text": [
            " 62%|██████▏   | 138/221 [01:28<00:26,  3.08it/s]"
          ]
        },
        {
          "name": "stdout",
          "output_type": "stream",
          "text": [
            "[2025/10/07 11:45:30] ppocr DEBUG: dt_boxes num : 2, elapsed : 0.2999305725097656\n",
            "[2025/10/07 11:45:30] ppocr DEBUG: cls num  : 2, elapsed : 0.09155750274658203\n",
            "[2025/10/07 11:45:31] ppocr DEBUG: rec_res num  : 2, elapsed : 0.2278125286102295\n",
            "[2025/10/07 11:45:31] ppocr DEBUG: dt_boxes num : 2, elapsed : 0.07309222221374512\n",
            "[2025/10/07 11:45:31] ppocr DEBUG: cls num  : 2, elapsed : 0.016213655471801758\n",
            "[2025/10/07 11:45:31] ppocr DEBUG: rec_res num  : 2, elapsed : 0.10055971145629883\n"
          ]
        },
        {
          "name": "stderr",
          "output_type": "stream",
          "text": [
            " 64%|██████▍   | 141/221 [01:29<00:30,  2.65it/s]"
          ]
        },
        {
          "name": "stdout",
          "output_type": "stream",
          "text": [
            "[2025/10/07 11:45:32] ppocr DEBUG: dt_boxes num : 0, elapsed : 0.09100341796875\n",
            "[2025/10/07 11:45:32] ppocr DEBUG: cls num  : 0, elapsed : 0\n",
            "[2025/10/07 11:45:32] ppocr DEBUG: rec_res num  : 0, elapsed : 0.0\n"
          ]
        },
        {
          "name": "stderr",
          "output_type": "stream",
          "text": [
            " 67%|██████▋   | 147/221 [01:41<02:41,  2.19s/it]"
          ]
        },
        {
          "name": "stdout",
          "output_type": "stream",
          "text": [
            "[2025/10/07 11:45:46] ppocr DEBUG: dt_boxes num : 0, elapsed : 0.11043596267700195\n",
            "[2025/10/07 11:45:46] ppocr DEBUG: cls num  : 0, elapsed : 0\n",
            "[2025/10/07 11:45:46] ppocr DEBUG: rec_res num  : 0, elapsed : 0.0\n",
            "[2025/10/07 11:45:46] ppocr DEBUG: dt_boxes num : 0, elapsed : 0.08349847793579102\n",
            "[2025/10/07 11:45:46] ppocr DEBUG: cls num  : 0, elapsed : 0\n",
            "[2025/10/07 11:45:46] ppocr DEBUG: rec_res num  : 0, elapsed : 0.0\n",
            "[2025/10/07 11:45:46] ppocr DEBUG: dt_boxes num : 0, elapsed : 0.14524388313293457\n",
            "[2025/10/07 11:45:46] ppocr DEBUG: cls num  : 0, elapsed : 0\n",
            "[2025/10/07 11:45:46] ppocr DEBUG: rec_res num  : 0, elapsed : 0.0\n",
            "[2025/10/07 11:45:47] ppocr DEBUG: dt_boxes num : 0, elapsed : 0.1998577117919922\n",
            "[2025/10/07 11:45:47] ppocr DEBUG: cls num  : 0, elapsed : 0\n",
            "[2025/10/07 11:45:47] ppocr DEBUG: rec_res num  : 0, elapsed : 0.0\n",
            "[2025/10/07 11:45:47] ppocr DEBUG: dt_boxes num : 0, elapsed : 0.019292593002319336\n",
            "[2025/10/07 11:45:47] ppocr DEBUG: cls num  : 0, elapsed : 0\n",
            "[2025/10/07 11:45:47] ppocr DEBUG: rec_res num  : 0, elapsed : 0.0\n",
            "[2025/10/07 11:45:47] ppocr DEBUG: dt_boxes num : 0, elapsed : 0.19574546813964844\n",
            "[2025/10/07 11:45:47] ppocr DEBUG: cls num  : 0, elapsed : 0\n",
            "[2025/10/07 11:45:47] ppocr DEBUG: rec_res num  : 0, elapsed : 0.0\n"
          ]
        },
        {
          "name": "stderr",
          "output_type": "stream",
          "text": [
            " 67%|██████▋   | 148/221 [01:45<03:23,  2.79s/it]"
          ]
        },
        {
          "name": "stdout",
          "output_type": "stream",
          "text": [
            "[2025/10/07 11:45:48] ppocr DEBUG: dt_boxes num : 0, elapsed : 0.18340325355529785\n",
            "[2025/10/07 11:45:48] ppocr DEBUG: cls num  : 0, elapsed : 0\n",
            "[2025/10/07 11:45:48] ppocr DEBUG: rec_res num  : 0, elapsed : 0.0\n"
          ]
        },
        {
          "name": "stderr",
          "output_type": "stream",
          "text": [
            " 67%|██████▋   | 149/221 [01:45<02:29,  2.08s/it]"
          ]
        },
        {
          "name": "stdout",
          "output_type": "stream",
          "text": [
            "[2025/10/07 11:45:48] ppocr DEBUG: dt_boxes num : 0, elapsed : 0.15171384811401367\n",
            "[2025/10/07 11:45:48] ppocr DEBUG: cls num  : 0, elapsed : 0\n",
            "[2025/10/07 11:45:48] ppocr DEBUG: rec_res num  : 0, elapsed : 0.0\n"
          ]
        },
        {
          "name": "stderr",
          "output_type": "stream",
          "text": [
            " 68%|██████▊   | 151/221 [01:46<01:22,  1.18s/it]"
          ]
        },
        {
          "name": "stdout",
          "output_type": "stream",
          "text": [
            "[2025/10/07 11:45:49] ppocr DEBUG: dt_boxes num : 0, elapsed : 0.16109609603881836\n",
            "[2025/10/07 11:45:49] ppocr DEBUG: cls num  : 0, elapsed : 0\n",
            "[2025/10/07 11:45:49] ppocr DEBUG: rec_res num  : 0, elapsed : 0.0\n"
          ]
        },
        {
          "name": "stderr",
          "output_type": "stream",
          "text": [
            " 69%|██████▉   | 152/221 [01:46<01:05,  1.05it/s]"
          ]
        },
        {
          "name": "stdout",
          "output_type": "stream",
          "text": [
            "[2025/10/07 11:45:49] ppocr DEBUG: dt_boxes num : 0, elapsed : 0.20072674751281738\n",
            "[2025/10/07 11:45:49] ppocr DEBUG: cls num  : 0, elapsed : 0\n",
            "[2025/10/07 11:45:49] ppocr DEBUG: rec_res num  : 0, elapsed : 0.0\n",
            "[2025/10/07 11:45:49] ppocr DEBUG: dt_boxes num : 0, elapsed : 0.011676549911499023\n",
            "[2025/10/07 11:45:49] ppocr DEBUG: cls num  : 0, elapsed : 0\n",
            "[2025/10/07 11:45:49] ppocr DEBUG: rec_res num  : 0, elapsed : 0.0\n"
          ]
        },
        {
          "name": "stderr",
          "output_type": "stream",
          "text": [
            " 70%|███████   | 155/221 [01:47<00:34,  1.90it/s]"
          ]
        },
        {
          "name": "stdout",
          "output_type": "stream",
          "text": [
            "[2025/10/07 11:45:50] ppocr DEBUG: dt_boxes num : 0, elapsed : 0.1464550495147705\n",
            "[2025/10/07 11:45:50] ppocr DEBUG: cls num  : 0, elapsed : 0\n",
            "[2025/10/07 11:45:50] ppocr DEBUG: rec_res num  : 0, elapsed : 0.0\n"
          ]
        },
        {
          "name": "stderr",
          "output_type": "stream",
          "text": [
            " 71%|███████   | 156/221 [01:48<00:29,  2.18it/s]"
          ]
        },
        {
          "name": "stdout",
          "output_type": "stream",
          "text": [
            "[2025/10/07 11:45:50] ppocr DEBUG: dt_boxes num : 0, elapsed : 0.017188072204589844\n",
            "[2025/10/07 11:45:50] ppocr DEBUG: cls num  : 0, elapsed : 0\n",
            "[2025/10/07 11:45:50] ppocr DEBUG: rec_res num  : 0, elapsed : 0.0\n",
            "[2025/10/07 11:45:50] ppocr DEBUG: dt_boxes num : 0, elapsed : 0.09630012512207031\n",
            "[2025/10/07 11:45:50] ppocr DEBUG: cls num  : 0, elapsed : 0\n",
            "[2025/10/07 11:45:50] ppocr DEBUG: rec_res num  : 0, elapsed : 0.0\n"
          ]
        },
        {
          "name": "stderr",
          "output_type": "stream",
          "text": [
            " 71%|███████▏  | 158/221 [01:48<00:22,  2.85it/s]"
          ]
        },
        {
          "name": "stdout",
          "output_type": "stream",
          "text": [
            "[2025/10/07 11:45:51] ppocr DEBUG: dt_boxes num : 0, elapsed : 0.23262643814086914\n",
            "[2025/10/07 11:45:51] ppocr DEBUG: cls num  : 0, elapsed : 0\n",
            "[2025/10/07 11:45:51] ppocr DEBUG: rec_res num  : 0, elapsed : 0.0\n"
          ]
        },
        {
          "name": "stderr",
          "output_type": "stream",
          "text": [
            " 73%|███████▎  | 162/221 [01:49<00:15,  3.83it/s]"
          ]
        },
        {
          "name": "stdout",
          "output_type": "stream",
          "text": [
            "[2025/10/07 11:45:52] ppocr DEBUG: dt_boxes num : 0, elapsed : 0.16556358337402344\n",
            "[2025/10/07 11:45:52] ppocr DEBUG: cls num  : 0, elapsed : 0\n",
            "[2025/10/07 11:45:52] ppocr DEBUG: rec_res num  : 0, elapsed : 0.0\n",
            "[2025/10/07 11:45:52] ppocr DEBUG: dt_boxes num : 0, elapsed : 0.29953837394714355\n",
            "[2025/10/07 11:45:52] ppocr DEBUG: cls num  : 0, elapsed : 0\n",
            "[2025/10/07 11:45:52] ppocr DEBUG: rec_res num  : 0, elapsed : 0.0\n"
          ]
        },
        {
          "name": "stderr",
          "output_type": "stream",
          "text": [
            " 74%|███████▍  | 163/221 [01:50<00:24,  2.34it/s]"
          ]
        },
        {
          "name": "stdout",
          "output_type": "stream",
          "text": [
            "[2025/10/07 11:45:53] ppocr DEBUG: dt_boxes num : 0, elapsed : 0.2503643035888672\n",
            "[2025/10/07 11:45:53] ppocr DEBUG: cls num  : 0, elapsed : 0\n",
            "[2025/10/07 11:45:53] ppocr DEBUG: rec_res num  : 0, elapsed : 0.0\n",
            "[2025/10/07 11:45:53] ppocr DEBUG: dt_boxes num : 0, elapsed : 0.29682111740112305\n",
            "[2025/10/07 11:45:53] ppocr DEBUG: cls num  : 0, elapsed : 0\n",
            "[2025/10/07 11:45:53] ppocr DEBUG: rec_res num  : 0, elapsed : 0.0\n",
            "[2025/10/07 11:45:54] ppocr DEBUG: dt_boxes num : 0, elapsed : 0.2743511199951172\n",
            "[2025/10/07 11:45:54] ppocr DEBUG: cls num  : 0, elapsed : 0\n",
            "[2025/10/07 11:45:54] ppocr DEBUG: rec_res num  : 0, elapsed : 0.0\n",
            "[2025/10/07 11:45:54] ppocr DEBUG: dt_boxes num : 0, elapsed : 0.2874267101287842\n",
            "[2025/10/07 11:45:54] ppocr DEBUG: cls num  : 0, elapsed : 0\n",
            "[2025/10/07 11:45:54] ppocr DEBUG: rec_res num  : 0, elapsed : 0.0\n"
          ]
        },
        {
          "name": "stderr",
          "output_type": "stream",
          "text": [
            " 75%|███████▍  | 165/221 [01:52<00:33,  1.69it/s]"
          ]
        },
        {
          "name": "stdout",
          "output_type": "stream",
          "text": [
            "[2025/10/07 11:45:55] ppocr DEBUG: dt_boxes num : 1, elapsed : 0.14988160133361816\n",
            "[2025/10/07 11:45:55] ppocr DEBUG: cls num  : 1, elapsed : 0.06981301307678223\n",
            "[2025/10/07 11:45:55] ppocr DEBUG: rec_res num  : 1, elapsed : 0.13981223106384277\n"
          ]
        },
        {
          "name": "stderr",
          "output_type": "stream",
          "text": [
            " 75%|███████▌  | 166/221 [01:53<00:32,  1.67it/s]"
          ]
        },
        {
          "name": "stdout",
          "output_type": "stream",
          "text": [
            "[2025/10/07 11:45:55] ppocr DEBUG: dt_boxes num : 31, elapsed : 0.36989688873291016\n",
            "[2025/10/07 11:45:56] ppocr DEBUG: cls num  : 31, elapsed : 0.13285589218139648\n",
            "[2025/10/07 11:46:20] ppocr DEBUG: rec_res num  : 31, elapsed : 24.737734079360962\n"
          ]
        },
        {
          "name": "stderr",
          "output_type": "stream",
          "text": [
            " 77%|███████▋  | 170/221 [02:20<02:38,  3.10s/it]"
          ]
        },
        {
          "name": "stdout",
          "output_type": "stream",
          "text": [
            "[2025/10/07 11:46:26] ppocr DEBUG: dt_boxes num : 0, elapsed : 3.4078502655029297\n",
            "[2025/10/07 11:46:26] ppocr DEBUG: cls num  : 0, elapsed : 0\n",
            "[2025/10/07 11:46:26] ppocr DEBUG: rec_res num  : 0, elapsed : 0.0\n",
            "[2025/10/07 11:46:31] ppocr DEBUG: dt_boxes num : 0, elapsed : 4.912449598312378\n",
            "[2025/10/07 11:46:31] ppocr DEBUG: cls num  : 0, elapsed : 0\n",
            "[2025/10/07 11:46:31] ppocr DEBUG: rec_res num  : 0, elapsed : 0.0\n"
          ]
        },
        {
          "name": "stderr",
          "output_type": "stream",
          "text": [
            " 78%|███████▊  | 172/221 [02:29<02:50,  3.47s/it]"
          ]
        },
        {
          "name": "stdout",
          "output_type": "stream",
          "text": [
            "[2025/10/07 11:46:34] ppocr DEBUG: dt_boxes num : 0, elapsed : 2.2267212867736816\n",
            "[2025/10/07 11:46:34] ppocr DEBUG: cls num  : 0, elapsed : 0\n",
            "[2025/10/07 11:46:34] ppocr DEBUG: rec_res num  : 0, elapsed : 0.0\n",
            "[2025/10/07 11:46:35] ppocr DEBUG: dt_boxes num : 0, elapsed : 0.5662283897399902\n",
            "[2025/10/07 11:46:35] ppocr DEBUG: cls num  : 0, elapsed : 0\n",
            "[2025/10/07 11:46:35] ppocr DEBUG: rec_res num  : 0, elapsed : 0.0\n"
          ]
        },
        {
          "name": "stderr",
          "output_type": "stream",
          "text": [
            " 78%|███████▊  | 173/221 [02:32<02:42,  3.38s/it]"
          ]
        },
        {
          "name": "stdout",
          "output_type": "stream",
          "text": [
            "[2025/10/07 11:46:36] ppocr DEBUG: dt_boxes num : 0, elapsed : 0.6999020576477051\n",
            "[2025/10/07 11:46:36] ppocr DEBUG: cls num  : 0, elapsed : 0\n",
            "[2025/10/07 11:46:36] ppocr DEBUG: rec_res num  : 0, elapsed : 0.0\n",
            "[2025/10/07 11:46:36] ppocr DEBUG: dt_boxes num : 0, elapsed : 0.5493550300598145\n",
            "[2025/10/07 11:46:36] ppocr DEBUG: cls num  : 0, elapsed : 0\n",
            "[2025/10/07 11:46:36] ppocr DEBUG: rec_res num  : 0, elapsed : 0.0\n"
          ]
        },
        {
          "name": "stderr",
          "output_type": "stream",
          "text": [
            " 79%|███████▊  | 174/221 [02:34<02:14,  2.86s/it]"
          ]
        },
        {
          "name": "stdout",
          "output_type": "stream",
          "text": [
            "[2025/10/07 11:46:37] ppocr DEBUG: dt_boxes num : 0, elapsed : 0.2485189437866211\n",
            "[2025/10/07 11:46:37] ppocr DEBUG: cls num  : 0, elapsed : 0\n",
            "[2025/10/07 11:46:37] ppocr DEBUG: rec_res num  : 0, elapsed : 0.0\n"
          ]
        },
        {
          "name": "stderr",
          "output_type": "stream",
          "text": [
            " 81%|████████  | 178/221 [02:35<00:37,  1.14it/s]"
          ]
        },
        {
          "name": "stdout",
          "output_type": "stream",
          "text": [
            "[2025/10/07 11:46:39] ppocr DEBUG: dt_boxes num : 0, elapsed : 1.3968303203582764\n",
            "[2025/10/07 11:46:39] ppocr DEBUG: cls num  : 0, elapsed : 0\n",
            "[2025/10/07 11:46:39] ppocr DEBUG: rec_res num  : 0, elapsed : 0.0\n"
          ]
        },
        {
          "name": "stderr",
          "output_type": "stream",
          "text": [
            " 81%|████████▏ | 180/221 [02:37<00:35,  1.16it/s]"
          ]
        },
        {
          "name": "stdout",
          "output_type": "stream",
          "text": [
            "[2025/10/07 11:46:40] ppocr DEBUG: dt_boxes num : 0, elapsed : 0.3007314205169678\n",
            "[2025/10/07 11:46:40] ppocr DEBUG: cls num  : 0, elapsed : 0\n",
            "[2025/10/07 11:46:40] ppocr DEBUG: rec_res num  : 0, elapsed : 0.0\n"
          ]
        },
        {
          "name": "stderr",
          "output_type": "stream",
          "text": [
            " 82%|████████▏ | 182/221 [02:38<00:23,  1.63it/s]"
          ]
        },
        {
          "name": "stdout",
          "output_type": "stream",
          "text": [
            "[2025/10/07 11:46:41] ppocr DEBUG: dt_boxes num : 0, elapsed : 0.2509315013885498\n",
            "[2025/10/07 11:46:41] ppocr DEBUG: cls num  : 0, elapsed : 0\n",
            "[2025/10/07 11:46:41] ppocr DEBUG: rec_res num  : 0, elapsed : 0.0\n"
          ]
        },
        {
          "name": "stderr",
          "output_type": "stream",
          "text": [
            " 83%|████████▎ | 184/221 [02:39<00:16,  2.23it/s]"
          ]
        },
        {
          "name": "stdout",
          "output_type": "stream",
          "text": [
            "[2025/10/07 11:46:41] ppocr DEBUG: dt_boxes num : 0, elapsed : 0.2726423740386963\n",
            "[2025/10/07 11:46:41] ppocr DEBUG: cls num  : 0, elapsed : 0\n",
            "[2025/10/07 11:46:41] ppocr DEBUG: rec_res num  : 0, elapsed : 0.0\n"
          ]
        },
        {
          "name": "stderr",
          "output_type": "stream",
          "text": [
            " 86%|████████▌ | 189/221 [02:40<00:08,  3.92it/s]"
          ]
        },
        {
          "name": "stdout",
          "output_type": "stream",
          "text": [
            "[2025/10/07 11:46:43] ppocr DEBUG: dt_boxes num : 0, elapsed : 0.24060773849487305\n",
            "[2025/10/07 11:46:43] ppocr DEBUG: cls num  : 0, elapsed : 0\n",
            "[2025/10/07 11:46:43] ppocr DEBUG: rec_res num  : 0, elapsed : 0.0\n"
          ]
        },
        {
          "name": "stderr",
          "output_type": "stream",
          "text": [
            " 87%|████████▋ | 192/221 [02:41<00:07,  3.79it/s]"
          ]
        },
        {
          "name": "stdout",
          "output_type": "stream",
          "text": [
            "[2025/10/07 11:46:44] ppocr DEBUG: dt_boxes num : 0, elapsed : 0.2903461456298828\n",
            "[2025/10/07 11:46:44] ppocr DEBUG: cls num  : 0, elapsed : 0\n",
            "[2025/10/07 11:46:44] ppocr DEBUG: rec_res num  : 0, elapsed : 0.0\n",
            "[2025/10/07 11:46:44] ppocr DEBUG: dt_boxes num : 0, elapsed : 0.3037075996398926\n",
            "[2025/10/07 11:46:44] ppocr DEBUG: cls num  : 0, elapsed : 0\n",
            "[2025/10/07 11:46:44] ppocr DEBUG: rec_res num  : 0, elapsed : 0.0\n"
          ]
        },
        {
          "name": "stderr",
          "output_type": "stream",
          "text": [
            " 88%|████████▊ | 194/221 [02:42<00:10,  2.54it/s]"
          ]
        },
        {
          "name": "stdout",
          "output_type": "stream",
          "text": [
            "[2025/10/07 11:46:45] ppocr DEBUG: dt_boxes num : 0, elapsed : 0.5586283206939697\n",
            "[2025/10/07 11:46:45] ppocr DEBUG: cls num  : 0, elapsed : 0\n",
            "[2025/10/07 11:46:45] ppocr DEBUG: rec_res num  : 0, elapsed : 0.0\n"
          ]
        },
        {
          "name": "stderr",
          "output_type": "stream",
          "text": [
            " 89%|████████▊ | 196/221 [02:43<00:10,  2.34it/s]"
          ]
        },
        {
          "name": "stdout",
          "output_type": "stream",
          "text": [
            "[2025/10/07 11:46:46] ppocr DEBUG: dt_boxes num : 0, elapsed : 0.23925161361694336\n",
            "[2025/10/07 11:46:46] ppocr DEBUG: cls num  : 0, elapsed : 0\n",
            "[2025/10/07 11:46:46] ppocr DEBUG: rec_res num  : 0, elapsed : 0.0\n"
          ]
        },
        {
          "name": "stderr",
          "output_type": "stream",
          "text": [
            " 90%|█████████ | 199/221 [02:46<00:19,  1.15it/s]"
          ]
        },
        {
          "name": "stdout",
          "output_type": "stream",
          "text": [
            "[2025/10/07 11:46:52] ppocr DEBUG: dt_boxes num : 0, elapsed : 1.3561820983886719\n",
            "[2025/10/07 11:46:52] ppocr DEBUG: cls num  : 0, elapsed : 0\n",
            "[2025/10/07 11:46:52] ppocr DEBUG: rec_res num  : 0, elapsed : 0.0\n"
          ]
        },
        {
          "name": "stderr",
          "output_type": "stream",
          "text": [
            " 90%|█████████ | 200/221 [02:50<00:41,  1.96s/it]"
          ]
        },
        {
          "name": "stdout",
          "output_type": "stream",
          "text": [
            "[2025/10/07 11:46:57] ppocr DEBUG: dt_boxes num : 0, elapsed : 1.4412190914154053\n",
            "[2025/10/07 11:46:57] ppocr DEBUG: cls num  : 0, elapsed : 0\n",
            "[2025/10/07 11:46:57] ppocr DEBUG: rec_res num  : 0, elapsed : 0.0\n",
            "[2025/10/07 11:46:59] ppocr DEBUG: dt_boxes num : 0, elapsed : 2.198018789291382\n",
            "[2025/10/07 11:46:59] ppocr DEBUG: cls num  : 0, elapsed : 0\n",
            "[2025/10/07 11:46:59] ppocr DEBUG: rec_res num  : 0, elapsed : 0.0\n"
          ]
        },
        {
          "name": "stderr",
          "output_type": "stream",
          "text": [
            " 91%|█████████ | 201/221 [02:57<01:07,  3.39s/it]"
          ]
        },
        {
          "name": "stdout",
          "output_type": "stream",
          "text": [
            "[2025/10/07 11:47:00] ppocr DEBUG: dt_boxes num : 1, elapsed : 0.4498763084411621\n",
            "[2025/10/07 11:47:00] ppocr DEBUG: cls num  : 1, elapsed : 0.2993450164794922\n",
            "[2025/10/07 11:47:01] ppocr DEBUG: rec_res num  : 1, elapsed : 0.28345322608947754\n",
            "[2025/10/07 11:47:01] ppocr DEBUG: dt_boxes num : 1, elapsed : 0.44234251976013184\n",
            "[2025/10/07 11:47:01] ppocr DEBUG: cls num  : 1, elapsed : 0.0220184326171875\n",
            "[2025/10/07 11:47:01] ppocr DEBUG: rec_res num  : 1, elapsed : 0.08324265480041504\n"
          ]
        },
        {
          "name": "stderr",
          "output_type": "stream",
          "text": [
            " 91%|█████████▏| 202/221 [02:59<00:56,  2.98s/it]"
          ]
        },
        {
          "name": "stdout",
          "output_type": "stream",
          "text": [
            "[2025/10/07 11:47:02] ppocr DEBUG: dt_boxes num : 4, elapsed : 0.08331418037414551\n",
            "[2025/10/07 11:47:02] ppocr DEBUG: cls num  : 4, elapsed : 0.11671996116638184\n",
            "[2025/10/07 11:47:03] ppocr DEBUG: rec_res num  : 4, elapsed : 0.8497941493988037\n"
          ]
        },
        {
          "name": "stderr",
          "output_type": "stream",
          "text": [
            " 93%|█████████▎| 206/221 [03:01<00:14,  1.02it/s]"
          ]
        },
        {
          "name": "stdout",
          "output_type": "stream",
          "text": [
            "[2025/10/07 11:47:04] ppocr DEBUG: dt_boxes num : 0, elapsed : 0.1434471607208252\n",
            "[2025/10/07 11:47:04] ppocr DEBUG: cls num  : 0, elapsed : 0\n",
            "[2025/10/07 11:47:04] ppocr DEBUG: rec_res num  : 0, elapsed : 0.0\n"
          ]
        },
        {
          "name": "stderr",
          "output_type": "stream",
          "text": [
            " 95%|█████████▍| 209/221 [03:02<00:06,  1.96it/s]"
          ]
        },
        {
          "name": "stdout",
          "output_type": "stream",
          "text": [
            "[2025/10/07 11:47:04] ppocr DEBUG: dt_boxes num : 0, elapsed : 0.18314766883850098\n",
            "[2025/10/07 11:47:04] ppocr DEBUG: cls num  : 0, elapsed : 0\n",
            "[2025/10/07 11:47:04] ppocr DEBUG: rec_res num  : 0, elapsed : 0.0\n"
          ]
        },
        {
          "name": "stderr",
          "output_type": "stream",
          "text": [
            " 96%|█████████▌| 212/221 [03:03<00:02,  3.11it/s]"
          ]
        },
        {
          "name": "stdout",
          "output_type": "stream",
          "text": [
            "[2025/10/07 11:47:06] ppocr DEBUG: dt_boxes num : 0, elapsed : 0.7544231414794922\n",
            "[2025/10/07 11:47:06] ppocr DEBUG: cls num  : 0, elapsed : 0\n",
            "[2025/10/07 11:47:06] ppocr DEBUG: rec_res num  : 0, elapsed : 0.0\n"
          ]
        },
        {
          "name": "stderr",
          "output_type": "stream",
          "text": [
            " 96%|█████████▋| 213/221 [03:04<00:04,  1.75it/s]"
          ]
        },
        {
          "name": "stdout",
          "output_type": "stream",
          "text": [
            "[2025/10/07 11:47:09] ppocr DEBUG: dt_boxes num : 0, elapsed : 0.14188170433044434\n",
            "[2025/10/07 11:47:09] ppocr DEBUG: cls num  : 0, elapsed : 0\n",
            "[2025/10/07 11:47:09] ppocr DEBUG: rec_res num  : 0, elapsed : 0.0\n",
            "[2025/10/07 11:47:09] ppocr DEBUG: dt_boxes num : 0, elapsed : 0.2090132236480713\n",
            "[2025/10/07 11:47:09] ppocr DEBUG: cls num  : 0, elapsed : 0\n",
            "[2025/10/07 11:47:09] ppocr DEBUG: rec_res num  : 0, elapsed : 0.0\n"
          ]
        },
        {
          "name": "stderr",
          "output_type": "stream",
          "text": [
            " 97%|█████████▋| 214/221 [03:07<00:09,  1.38s/it]"
          ]
        },
        {
          "name": "stdout",
          "output_type": "stream",
          "text": [
            "[2025/10/07 11:47:15] ppocr DEBUG: dt_boxes num : 0, elapsed : 3.1697773933410645\n",
            "[2025/10/07 11:47:15] ppocr DEBUG: cls num  : 0, elapsed : 0\n",
            "[2025/10/07 11:47:15] ppocr DEBUG: rec_res num  : 0, elapsed : 0.0\n",
            "[2025/10/07 11:47:17] ppocr DEBUG: dt_boxes num : 0, elapsed : 1.6579148769378662\n",
            "[2025/10/07 11:47:17] ppocr DEBUG: cls num  : 0, elapsed : 0\n",
            "[2025/10/07 11:47:17] ppocr DEBUG: rec_res num  : 0, elapsed : 0.0\n"
          ]
        },
        {
          "name": "stderr",
          "output_type": "stream",
          "text": [
            "100%|█████████▉| 220/221 [03:18<00:00,  1.19it/s]"
          ]
        },
        {
          "name": "stdout",
          "output_type": "stream",
          "text": [
            "[2025/10/07 11:47:20] ppocr DEBUG: dt_boxes num : 0, elapsed : 0.1381845474243164\n",
            "[2025/10/07 11:47:20] ppocr DEBUG: cls num  : 0, elapsed : 0\n",
            "[2025/10/07 11:47:20] ppocr DEBUG: rec_res num  : 0, elapsed : 0.0\n",
            "[2025/10/07 11:47:21] ppocr DEBUG: dt_boxes num : 0, elapsed : 0.2206270694732666\n",
            "[2025/10/07 11:47:21] ppocr DEBUG: cls num  : 0, elapsed : 0\n",
            "[2025/10/07 11:47:21] ppocr DEBUG: rec_res num  : 0, elapsed : 0.0\n",
            "[2025/10/07 11:47:22] ppocr DEBUG: dt_boxes num : 0, elapsed : 0.798710823059082\n",
            "[2025/10/07 11:47:22] ppocr DEBUG: cls num  : 0, elapsed : 0\n",
            "[2025/10/07 11:47:22] ppocr DEBUG: rec_res num  : 0, elapsed : 0.0\n",
            "[2025/10/07 11:47:22] ppocr DEBUG: dt_boxes num : 0, elapsed : 0.01692676544189453\n",
            "[2025/10/07 11:47:22] ppocr DEBUG: cls num  : 0, elapsed : 0\n",
            "[2025/10/07 11:47:22] ppocr DEBUG: rec_res num  : 0, elapsed : 0.0\n"
          ]
        },
        {
          "name": "stderr",
          "output_type": "stream",
          "text": [
            "100%|██████████| 221/221 [03:20<00:00,  1.10it/s]"
          ]
        },
        {
          "name": "stdout",
          "output_type": "stream",
          "text": [
            "Saved summary to C:\\Users\\uanus\\Box\\AML Comic Project\\2_text\\processing_summary.json\n",
            "Done.\n"
          ]
        },
        {
          "name": "stderr",
          "output_type": "stream",
          "text": [
            "\n"
          ]
        }
      ],
      "source": [
        "# Run the pipeline on the specified input folder\n",
        "from tqdm import tqdm\n",
        "\n",
        "# Gather images (jpg/jpeg/png)\n",
        "image_exts = {'.jpg', '.jpeg', '.png', '.bmp'}\n",
        "page_paths = sorted([p for p in INPUT_DIR.iterdir() if p.suffix.lower() in image_exts])\n",
        "print(f\"Found {len(page_paths)} pages in {INPUT_DIR}\")\n",
        "\n",
        "panel_detector = PanelDetector(weights=None, conf=0.25, iou=0.5)\n",
        "text_detector = TextRegionDetector(cuda=(DEVICE=='cuda'))\n",
        "ocr = OCRExtractor(lang='en', use_angle_cls=True)\n",
        "\n",
        "results = []\n",
        "for page in tqdm(page_paths):\n",
        "    res = process_page_image(page, panel_detector, text_detector, ocr)\n",
        "    results.append(res)\n",
        "\n",
        "# Save a summary JSON\n",
        "summary_path = TEXT_DIR / 'processing_summary.json'\n",
        "with open(summary_path, 'w', encoding='utf-8') as f:\n",
        "    json.dump(results, f, indent=2)\n",
        "\n",
        "print(f\"Saved summary to {summary_path}\")\n",
        "print(\"Done.\")\n"
      ]
    }
  ],
  "metadata": {
    "kernelspec": {
      "display_name": "base",
      "language": "python",
      "name": "python3"
    },
    "language_info": {
      "codemirror_mode": {
        "name": "ipython",
        "version": 3
      },
      "file_extension": ".py",
      "mimetype": "text/x-python",
      "name": "python",
      "nbconvert_exporter": "python",
      "pygments_lexer": "ipython3",
      "version": "3.12.4"
    }
  },
  "nbformat": 4,
  "nbformat_minor": 2
}
